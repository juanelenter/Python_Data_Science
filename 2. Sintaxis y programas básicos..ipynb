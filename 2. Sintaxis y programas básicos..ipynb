{
 "cells": [
  {
   "cell_type": "markdown",
   "metadata": {},
   "source": [
    "<h1 align=center><font size=5>2. Sintaxis y programas básicos.</font></h1>\n",
    "<h1 align=center><font size=3>Innovation Lab, IBM Uruguay</font></h1>"
   ]
  },
  {
   "cell_type": "markdown",
   "metadata": {},
   "source": [
    "El objetivo de este notebook es explorar programas básicos en Python utilizando los siguientes conceptos: Condicionales, Iteraciones, Uso de librerías, Funciones y Recursión.\n",
    "\n",
    "Un buen aprendizaje de estas herramientas es fundamental para comprender las funcionalidades más poderosas y complejas de Python y Watson Studio que se ven en los próximos laboratorios. "
   ]
  },
  {
   "cell_type": "markdown",
   "metadata": {},
   "source": [
    "__Ejercicio 1: Branching y condicionales__\n",
    "\n",
    "Escriba un algoritmo que pregunte el valor del euro y del dolar en pesos uruguayos y luego compare estos valores.\n",
    "\n",
    "Imprima en pantalla: \n",
    "- Un mensaje con el resultado de la comparación (ej: \"El dólar vale más que el euro\").\n",
    "- El cociente dolar/euro."
   ]
  },
  {
   "cell_type": "code",
   "execution_count": 1,
   "metadata": {},
   "outputs": [
    {
     "name": "stdout",
     "output_type": "stream",
     "text": [
      "Introduzca el valor de un dólar en pesos uruguayos: 10\n",
      "Introduzca el valor de un euro en pesos uruguayos: 11\n",
      "Un dólar vale menos que un euro.\n",
      "El cociente dolár/euro es: 0.9090909090909091\n"
     ]
    }
   ],
   "source": [
    "dolar = int(input(\"Introduzca el valor de un dólar en pesos uruguayos: \"))\n",
    "euro = int(input(\"Introduzca el valor de un euro en pesos uruguayos: \"))\n",
    "        \n",
    "if dolar > euro:\n",
    "    print(\"Un dólar vale más que un euro.\")\n",
    "    \n",
    "elif euro > dolar:\n",
    "    print(\"Un dólar vale menos que un euro.\") \n",
    "    \n",
    "else:\n",
    "    print(\"El dólar y el euro valen lo mismo.\")\n",
    "\n",
    "if euro != 0:\n",
    "    print(f\"El cociente dolár/euro es: {dolar/euro}\")  "
   ]
  },
  {
   "cell_type": "markdown",
   "metadata": {},
   "source": [
    "__Ejercicio 2: Listas, iteraciones y balances de cuenta__\n",
    "\n",
    "Se tiene una lista: \"nombres\", con titulares de cuenta y otra lista: \"balances\", con sus respectivos balances.\n",
    "Recorra las listas utilizando el keyword __for__ y cuente cuantas cuentas tienen balances nulos.\n",
    "\n",
    "Además, imprima en pantalla los nombres de dichas cuentas.\n",
    "\n",
    "Repita el ejercicio utilizando la instrucción __while__."
   ]
  },
  {
   "cell_type": "code",
   "execution_count": 2,
   "metadata": {},
   "outputs": [
    {
     "name": "stdout",
     "output_type": "stream",
     "text": [
      "Tomas\n",
      "Adolfo\n",
      "Antonio\n",
      "3 personas tienen un balance de cuenta nulo.\n"
     ]
    }
   ],
   "source": [
    "nombres = [\"Tomas\", \"Jose\", \"Sebastian\", \"Lucila\", \"Juan\", \"Adolfo\", \"Gabriela\", \"Agustina\", \"Diego\", \"Antonio\"]\n",
    "balances = [0, 9999999, 456, 765, 1, 0, 560, 789, 55, 0]\n",
    "\n",
    "contador = 0\n",
    "for i in range(len(balances)):\n",
    "    if balances[i] == 0:\n",
    "        contador += 1\n",
    "        print(nombres[i])\n",
    "print(f\"{contador} personas tienen un balance de cuenta nulo.\")\n",
    "\n",
    "#Esta es la forma más \"pythonica\" de escribirlo\n",
    "#contador = 0\n",
    "#for nombre, balance in zip(nombres, balances):\n",
    "#    if balance == 0:\n",
    "#        print(nombre)\n",
    "#        contador += 1\n",
    "#print(f\"{contador} personas tienen un balance de cuenta nulo.\")    \n",
    "\n",
    "#contador = 0\n",
    "#i = 0\n",
    "#while i < (len(balances)) :\n",
    "#    if balances[i] == 0 :\n",
    "#        contador += 1\n",
    "#        print(nombres[i])\n",
    "#    i += 1\n",
    "#print(f\"{contador} personas tienen un balance de cuenta nulo.\")"
   ]
  },
  {
   "cell_type": "markdown",
   "metadata": {},
   "source": [
    "__Ejercicio 3: Función para medir variaciones de una acción__\n",
    "\n",
    "Se tiene una lista con los valores de la acción de una empresa uruguaya a lo largo de un año (dos valores por mes, osea 24 valores). \n",
    "Escriba una función que tome como parámetro de entrada dicha lista y devuelva:\n",
    "- El promedio\n",
    "- El máximo\n",
    "- El mínimo\n",
    "\n",
    "Luego, intente escribir la misma función, utilizando la biblioteca _statistics_ y devuelva también la desviación esándar y la mediana. (La función debería tener 1 sola línea.)"
   ]
  },
  {
   "cell_type": "code",
   "execution_count": 4,
   "metadata": {},
   "outputs": [
    {
     "name": "stdout",
     "output_type": "stream",
     "text": [
      "El maximo es: 29.908970748535307 \n",
      "El minimo es: 20.019154523540543 \n",
      "El promedio es: 24.789041246939277\n"
     ]
    }
   ],
   "source": [
    "import numpy as np\n",
    "accion = np.random.rand(1,24)[0]*10+20\n",
    "\n",
    "def analisis_accion(accion):\n",
    "    maximo = max(accion)\n",
    "    minimo = min(accion)\n",
    "    suma = 0\n",
    "    for a in accion:\n",
    "        suma += a\n",
    "    promedio = suma / len(accion)\n",
    "    return maximo, minimo, promedio\n",
    "\n",
    "# Forma \"Pythonic\" de escribirlo:\n",
    "#def analisis_accion2(accion):\n",
    "#    return max(accion), min(accion), sum(accion)/len(accion)\n",
    "\n",
    "#import statistics\n",
    "#def analisis_accion3(accion):\n",
    "#    return max(accion), min(accion), statistics.mean(accion), statistics.stdev(accion), statistics.median(accion)\n",
    "\n",
    "maxi, mini, prom = analisis_accion(accion)\n",
    "print(f\"El maximo es: {maxi} \\nEl minimo es: {mini} \\nEl promedio es: {prom}\")\n",
    "#print(f\"El maximo es: {analisis[0]} \\nEl minimo es: {analisis[1]} \\nEl promedio es: {analisis[2]} \\nLa desviación estándar: {analisis[3]} \\nLa mediana es: {analisis[4]}\")"
   ]
  },
  {
   "cell_type": "markdown",
   "metadata": {},
   "source": [
    "__Ejercicio 4: Palíndromos__\n",
    "\n",
    "Un palíndromo es una palabra o frase que se lee igual en un sentido que en otro. Por ejemplo:\n",
    "- alli ves Sevilla\n",
    "- a mama roma le aviva el amor a papa y a papa roma le aviva el amor a mama\n",
    "- amigo no gima\n",
    "- dabale arroz a la zorra el abad\n",
    "\n",
    "Cree una funcion que reciba como parametro un string y devuelva _True_ si el string es un palindromo y _False_ sino.\n",
    "\n",
    "Para probarlo, escriba la frase si espacios o utilize el metodo: "
   ]
  },
  {
   "cell_type": "code",
   "execution_count": 5,
   "metadata": {},
   "outputs": [
    {
     "name": "stdout",
     "output_type": "stream",
     "text": [
      "True\n",
      "True\n",
      "False\n"
     ]
    }
   ],
   "source": [
    "def es_un_palindromo(frase):\n",
    "    \n",
    "    frase = frase.replace(\" \",\"\").lower()\n",
    "    if (len(frase)==0 or len(frase)==1):\n",
    "        return True\n",
    "    else:\n",
    "        return (frase[0]==frase[-1]) and es_un_palindromo(frase[1:-1])\n",
    "\n",
    "print(es_un_palindromo(\"Dabale arroz a la zorra el abad\"))\n",
    "print(es_un_palindromo(\"Alli ves sevilla\"))\n",
    "print(es_un_palindromo(\"esto no es un palindromo\"))"
   ]
  },
  {
   "cell_type": "markdown",
   "metadata": {},
   "source": [
    "__Ejercicio 5 Opcional: Búsqueda de primos__\n",
    "\n",
    "Escriba una función que cuente la cantidad de números primos menores a un cierto parámetro de entrada _\"n\"_. \n",
    "\n",
    "Se recuerda que un número primo es un número que sólo es divisible por 1 y por sí mismo.\n",
    "\n",
    "Por ejemplo 2, 3, 5, 7, 11, 13,..., 1456 , ..."
   ]
  },
  {
   "cell_type": "code",
   "execution_count": 12,
   "metadata": {},
   "outputs": [
    {
     "name": "stdout",
     "output_type": "stream",
     "text": [
      "Introduzca el valor de n: 300\n",
      "2\n",
      "3\n",
      "5\n",
      "7\n",
      "11\n",
      "13\n",
      "17\n",
      "19\n",
      "23\n",
      "29\n",
      "31\n",
      "37\n",
      "41\n",
      "43\n",
      "47\n",
      "53\n",
      "59\n",
      "61\n",
      "67\n",
      "71\n",
      "73\n",
      "79\n",
      "83\n",
      "89\n",
      "97\n",
      "101\n",
      "103\n",
      "107\n",
      "109\n",
      "113\n",
      "127\n",
      "131\n",
      "137\n",
      "139\n",
      "149\n",
      "151\n",
      "157\n",
      "163\n",
      "167\n",
      "173\n",
      "179\n",
      "181\n",
      "191\n",
      "193\n",
      "197\n",
      "199\n",
      "211\n",
      "223\n",
      "227\n",
      "229\n",
      "233\n",
      "239\n",
      "241\n",
      "251\n",
      "257\n",
      "263\n",
      "269\n",
      "271\n",
      "277\n",
      "281\n",
      "283\n",
      "293\n",
      "Hay 62 numeros primos menores a 300\n"
     ]
    }
   ],
   "source": [
    "import math\n",
    "\n",
    "def cantidad_de_primos(n):\n",
    "    contador = 0\n",
    "    for i in range(2, n):\n",
    "        es_primo = True\n",
    "        for j in range(2, math.trunc(math.sqrt(i))+1):\n",
    "            if (i % j == 0):\n",
    "                es_primo = False      \n",
    "        if es_primo == True:\n",
    "            print(i)\n",
    "            contador += 1   \n",
    "    return contador\n",
    "\n",
    "n = int(input(\"Introduzca el valor de n: \"))\n",
    "print(f\"Hay {cantidad_de_primos(n)} numeros primos menores a {n}\")"
   ]
  }
 ],
 "metadata": {
  "kernelspec": {
   "display_name": "Python 3",
   "language": "python",
   "name": "python3"
  },
  "language_info": {
   "codemirror_mode": {
    "name": "ipython",
    "version": 3
   },
   "file_extension": ".py",
   "mimetype": "text/x-python",
   "name": "python",
   "nbconvert_exporter": "python",
   "pygments_lexer": "ipython3",
   "version": "3.7.4"
  }
 },
 "nbformat": 4,
 "nbformat_minor": 2
}

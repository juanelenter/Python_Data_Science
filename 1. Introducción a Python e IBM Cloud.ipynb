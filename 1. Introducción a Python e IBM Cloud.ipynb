{
 "cells": [
  {
   "cell_type": "markdown",
   "metadata": {},
   "source": [
    "<h1 align=center><font size=5>1. Introducción a Python</font></h1>\n",
    "<h1 align=center><font size=3>Innovation Lab, IBM Uruguay</font></h1>"
   ]
  },
  {
   "cell_type": "markdown",
   "metadata": {},
   "source": [
    "El objetivo de este notebook es introducir las nociones básicas de Python. \n",
    "\n",
    "Pueden ser de utilidad: \n",
    "- input()\n",
    "- print()\n",
    "- math.trunc()\n",
    "- type()"
   ]
  },
  {
   "cell_type": "markdown",
   "metadata": {},
   "source": [
    "__Ejercicio 0: Hello you!__\n",
    "\n",
    "Escriba un algoritmo que le pida al usuario que ingrese su nombre y que imprima en pantalla la frase : \"Hola _NombreUsuario_ !\"."
   ]
  },
  {
   "cell_type": "code",
   "execution_count": 19,
   "metadata": {},
   "outputs": [
    {
     "name": "stdout",
     "output_type": "stream",
     "text": [
      "Introduzca su nombre: Juan\n",
      "Hola Juan !\n"
     ]
    }
   ],
   "source": [
    "nombre = input(\"Introduzca su nombre: \")\n",
    "print(f\"Hola {nombre} !\")\n",
    "#print(\"Hola\", nombre, \"!\")\n",
    "#print(\"Hola {name} !\".format(name = nombre))"
   ]
  },
  {
   "cell_type": "markdown",
   "metadata": {},
   "source": [
    "__Ejercicio 1: Input, Output y un círculo.__\n",
    "\n",
    "Escriba un programa que calcule el perímetro y área de un círculo a partir de pi y el radio. El radio del círculo deberá ser ingresado por el usuario.\n",
    "\n",
    "Luego, imprima en pantalla cuantos discos de radio 1 entran en el circulo ingresado por el usuario."
   ]
  },
  {
   "cell_type": "code",
   "execution_count": 30,
   "metadata": {},
   "outputs": [
    {
     "name": "stdout",
     "output_type": "stream",
     "text": [
      "Introduzca el radio del círculo: 4\n",
      "El área del círculo es: 50.26548245743669 \n",
      "El perímetro del círculo es: 25.132741228718345\n",
      "En un disco de radio 4 entran 16 de radio 1.\n"
     ]
    }
   ],
   "source": [
    "import math\n",
    "\n",
    "pi = math.pi\n",
    "radio = int(input(\"Introduzca el radio del círculo: \"))\n",
    "perimetro = 2*radio*pi\n",
    "area = pi*(radio**2)\n",
    "\n",
    "print(f\"El área del círculo es: {area} \\nEl perímetro del círculo es: {perimetro}\")\n",
    "\n",
    "#ctd_discos = area // pi*1**2\n",
    "ctd_discos = math.trunc(area / pi*1**2)\n",
    "\n",
    "print(f\"En un disco de radio {radio} entran {ctd_discos} de radio 1.\")"
   ]
  },
  {
   "cell_type": "markdown",
   "metadata": {},
   "source": [
    "__Ejercicio 2: Tipos.__\n",
    "\n",
    "Verifique a que tipos pertenecen las variables creadas en los ejercicios 0 y 1."
   ]
  },
  {
   "cell_type": "code",
   "execution_count": 26,
   "metadata": {},
   "outputs": [
    {
     "name": "stdout",
     "output_type": "stream",
     "text": [
      "<class 'str'>\n",
      "<class 'float'>\n",
      "<class 'int'>\n"
     ]
    }
   ],
   "source": [
    "print(type(nombre))\n",
    "print(type(perimetro))\n",
    "print(type(ctd_discos))"
   ]
  },
  {
   "cell_type": "markdown",
   "metadata": {},
   "source": [
    "__Ejercicio 3: Tipos escalares y compuestos__\n",
    "\n",
    "Intente responder las siguientes preguntas:\n",
    "- ¿Cual es la diferencia entre una tupla (ej: (\"h\",\"o\",\"l\",\"a\",1)) y una lista (ej: [\"h\",\"o\",\"l\",\"a\",1]) ?\n",
    "- En listas y tuplas, ¿Qué hacen los métodos pop(), append(),..\n",
    "- En int y floats, que hacen los métodos: pow(), abs(),...\n",
    "\n"
   ]
  },
  {
   "cell_type": "code",
   "execution_count": 15,
   "metadata": {},
   "outputs": [],
   "source": [
    "lista = [\"l\", \"i\", \"s\", \"t\", \"a\"]\n",
    "tupla = (\"t\", \"u\", \"p\", \"l\", \"a\")\n",
    "string = \"string\""
   ]
  },
  {
   "cell_type": "code",
   "execution_count": 29,
   "metadata": {},
   "outputs": [
    {
     "data": {
      "text/plain": [
       "['l', 'e', 'a', 2, 'l', 'e', 'a', 2]"
      ]
     },
     "execution_count": 29,
     "metadata": {},
     "output_type": "execute_result"
    }
   ],
   "source": [
    "lista[1] = \"e\"\n",
    "tupla+tupla\n",
    "string+\"tupla\"\n",
    "lista*2"
   ]
  },
  {
   "cell_type": "code",
   "execution_count": 22,
   "metadata": {},
   "outputs": [
    {
     "data": {
      "text/plain": [
       "['l', 'i', 'a', 2]"
      ]
     },
     "execution_count": 22,
     "metadata": {},
     "output_type": "execute_result"
    }
   ],
   "source": [
    "lista.append(2)\n",
    "lista.pop(2)"
   ]
  },
  {
   "cell_type": "code",
   "execution_count": 16,
   "metadata": {},
   "outputs": [
    {
     "ename": "TypeError",
     "evalue": "'tuple' object does not support item assignment",
     "output_type": "error",
     "traceback": [
      "\u001b[1;31m---------------------------------------------------------------------------\u001b[0m",
      "\u001b[1;31mTypeError\u001b[0m                                 Traceback (most recent call last)",
      "\u001b[1;32m<ipython-input-16-028b1971e5ec>\u001b[0m in \u001b[0;36m<module>\u001b[1;34m\u001b[0m\n\u001b[1;32m----> 1\u001b[1;33m \u001b[0mtupla\u001b[0m\u001b[1;33m[\u001b[0m\u001b[1;36m1\u001b[0m\u001b[1;33m]\u001b[0m \u001b[1;33m=\u001b[0m \u001b[1;34m\"e\"\u001b[0m\u001b[1;33m\u001b[0m\u001b[1;33m\u001b[0m\u001b[0m\n\u001b[0m\u001b[0;32m      2\u001b[0m \u001b[0mtupla\u001b[0m\u001b[1;33m\u001b[0m\u001b[1;33m\u001b[0m\u001b[0m\n",
      "\u001b[1;31mTypeError\u001b[0m: 'tuple' object does not support item assignment"
     ]
    }
   ],
   "source": [
    "tupla[1] = \"e\""
   ]
  }
 ],
 "metadata": {
  "kernelspec": {
   "display_name": "Python 3",
   "language": "python",
   "name": "python3"
  },
  "language_info": {
   "codemirror_mode": {
    "name": "ipython",
    "version": 3
   },
   "file_extension": ".py",
   "mimetype": "text/x-python",
   "name": "python",
   "nbconvert_exporter": "python",
   "pygments_lexer": "ipython3",
   "version": "3.7.4"
  }
 },
 "nbformat": 4,
 "nbformat_minor": 2
}

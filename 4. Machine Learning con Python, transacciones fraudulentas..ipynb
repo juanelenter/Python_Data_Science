{
 "cells": [
  {
   "cell_type": "markdown",
   "metadata": {},
   "source": [
    "<h1 align=center><font size=5>4. Machine Learning con Python, transacciones fraudulentas.</font></h1>\n",
    "<h1 align=center><font size=3>Innovation Lab, IBM Uruguay</font></h1>\n",
    "\n",
    "El objetivo de este notebook es estudiar un ejemplo simple de __Machine Learning para detectar fraudes en transacciones__ aplicando algunas de las técnincas de análisis y visualización de datos del notebook 3. \n",
    "\n",
    "Se tiene una base de datos con información sobre las transacciones en un sitio de e-commerce que vende ropa de segunda mano. Dentro de esa base de datos, se tiene un _feature_ que indica si el usuario involucrado en una compra participó en actividades fraudulentas (ej: usando los datos de la tarjeta de crédito de un tercero.). \n",
    "\n",
    "Se construirá un modelo que intentará predecir qué comportamientos son \"normales\". Para los usuarios fraudulentos, algunas de las características tienen valores inusuales. En particular, veremos que hay comportamientos que delatan el fraude:\n",
    "- Un ip/dispositivo con muchos usuarios asociados.\n",
    "- Tiempo desde el sign-up hasta la compra sospechosamente corto. \n",
    "\n",
    "__Metas concretas:__\n",
    "- Determinar que carcterísticas de las transacciones influyen en la probabilidad de que un usuario sea fraudulento.\n",
    "- Construir un modelo con árboles de decisión teniendo en cuenta el costo de los falsos positivos y falsos negativos.\n",
    "- Entender dicho modelo, __¿Cuando acierta? ¿Por qué?__\n"
   ]
  },
  {
   "cell_type": "markdown",
   "metadata": {},
   "source": [
    "## 1. Introducción "
   ]
  },
  {
   "cell_type": "code",
   "execution_count": 1,
   "metadata": {},
   "outputs": [],
   "source": [
    "# Analisis\n",
    "import numpy as np\n",
    "import pandas as pd\n",
    "from scipy import special\n",
    "from random import sample\n",
    "\n",
    "# Visualizacion\n",
    "import matplotlib.pyplot as plt\n",
    "import seaborn as sns\n",
    "%matplotlib inline\n",
    "\n",
    "# Construcción de modelos\n",
    "from sklearn.preprocessing import RobustScaler\n",
    "from sklearn.ensemble import ExtraTreesClassifier\n",
    "from sklearn.model_selection import train_test_split\n",
    "from sklearn.ensemble import IsolationForest\n",
    "from sklearn.model_selection import learning_curve\n",
    "from sklearn.model_selection import GridSearchCV\n",
    "\n",
    "#Score del mdelo\n",
    "from sklearn.metrics import classification_report, roc_auc_score, roc_curve\n",
    "from sklearn.metrics import f1_score\n",
    "\n",
    "#Otros\n",
    "import itertools\n",
    "from datetime import timedelta\n",
    "from IPython.display import display\n",
    "\n",
    "pd.options.display.max_seq_items = 2000"
   ]
  },
  {
   "cell_type": "code",
   "execution_count": 2,
   "metadata": {},
   "outputs": [],
   "source": [
    "#Base de datos\n",
    "fraud_df = pd.read_csv(\"Fraud_Data/Fraud_Data_with_Countries.csv\", header=0)"
   ]
  },
  {
   "cell_type": "markdown",
   "metadata": {},
   "source": [
    "### 1.1 Exploración de los datos \n",
    "\n",
    "Comencemos por preguntas simples, ¿Qué __tipos__ de variables están presentes?"
   ]
  },
  {
   "cell_type": "code",
   "execution_count": 3,
   "metadata": {},
   "outputs": [
    {
     "data": {
      "text/plain": [
       "user_id             int64\n",
       "signup_time        object\n",
       "purchase_time      object\n",
       "purchase_value      int64\n",
       "device_id          object\n",
       "source             object\n",
       "browser            object\n",
       "sex                object\n",
       "age                 int64\n",
       "ip_address        float64\n",
       "class               int64\n",
       "country            object\n",
       "dtype: object"
      ]
     },
     "execution_count": 3,
     "metadata": {},
     "output_type": "execute_result"
    }
   ],
   "source": [
    "fraud_df.dtypes"
   ]
  },
  {
   "cell_type": "code",
   "execution_count": 4,
   "metadata": {},
   "outputs": [
    {
     "data": {
      "text/html": [
       "<div>\n",
       "<style scoped>\n",
       "    .dataframe tbody tr th:only-of-type {\n",
       "        vertical-align: middle;\n",
       "    }\n",
       "\n",
       "    .dataframe tbody tr th {\n",
       "        vertical-align: top;\n",
       "    }\n",
       "\n",
       "    .dataframe thead th {\n",
       "        text-align: right;\n",
       "    }\n",
       "</style>\n",
       "<table border=\"1\" class=\"dataframe\">\n",
       "  <thead>\n",
       "    <tr style=\"text-align: right;\">\n",
       "      <th></th>\n",
       "      <th>user_id</th>\n",
       "      <th>signup_time</th>\n",
       "      <th>purchase_time</th>\n",
       "      <th>purchase_value</th>\n",
       "      <th>device_id</th>\n",
       "      <th>source</th>\n",
       "      <th>browser</th>\n",
       "      <th>sex</th>\n",
       "      <th>age</th>\n",
       "      <th>ip_address</th>\n",
       "      <th>class</th>\n",
       "      <th>country</th>\n",
       "    </tr>\n",
       "  </thead>\n",
       "  <tbody>\n",
       "    <tr>\n",
       "      <td>0</td>\n",
       "      <td>22058</td>\n",
       "      <td>2015-02-24 22:55:49</td>\n",
       "      <td>2015-04-18 02:47:11</td>\n",
       "      <td>34</td>\n",
       "      <td>QVPSPJUOCKZAR</td>\n",
       "      <td>SEO</td>\n",
       "      <td>Chrome</td>\n",
       "      <td>M</td>\n",
       "      <td>39</td>\n",
       "      <td>7.327584e+08</td>\n",
       "      <td>0</td>\n",
       "      <td>Japan</td>\n",
       "    </tr>\n",
       "    <tr>\n",
       "      <td>1</td>\n",
       "      <td>333320</td>\n",
       "      <td>2015-06-07 20:39:50</td>\n",
       "      <td>2015-06-08 01:38:54</td>\n",
       "      <td>16</td>\n",
       "      <td>EOGFQPIZPYXFZ</td>\n",
       "      <td>Ads</td>\n",
       "      <td>Chrome</td>\n",
       "      <td>F</td>\n",
       "      <td>53</td>\n",
       "      <td>3.503114e+08</td>\n",
       "      <td>0</td>\n",
       "      <td>United States</td>\n",
       "    </tr>\n",
       "    <tr>\n",
       "      <td>2</td>\n",
       "      <td>1359</td>\n",
       "      <td>2015-01-01 18:52:44</td>\n",
       "      <td>2015-01-01 18:52:45</td>\n",
       "      <td>15</td>\n",
       "      <td>YSSKYOSJHPPLJ</td>\n",
       "      <td>SEO</td>\n",
       "      <td>Opera</td>\n",
       "      <td>M</td>\n",
       "      <td>53</td>\n",
       "      <td>2.621474e+09</td>\n",
       "      <td>1</td>\n",
       "      <td>United States</td>\n",
       "    </tr>\n",
       "    <tr>\n",
       "      <td>3</td>\n",
       "      <td>150084</td>\n",
       "      <td>2015-04-28 21:13:25</td>\n",
       "      <td>2015-05-04 13:54:50</td>\n",
       "      <td>44</td>\n",
       "      <td>ATGTXKYKUDUQN</td>\n",
       "      <td>SEO</td>\n",
       "      <td>Safari</td>\n",
       "      <td>M</td>\n",
       "      <td>41</td>\n",
       "      <td>3.840542e+09</td>\n",
       "      <td>0</td>\n",
       "      <td>Missing</td>\n",
       "    </tr>\n",
       "    <tr>\n",
       "      <td>4</td>\n",
       "      <td>221365</td>\n",
       "      <td>2015-07-21 07:09:52</td>\n",
       "      <td>2015-09-09 18:40:53</td>\n",
       "      <td>39</td>\n",
       "      <td>NAUITBZFJKHWW</td>\n",
       "      <td>Ads</td>\n",
       "      <td>Safari</td>\n",
       "      <td>M</td>\n",
       "      <td>45</td>\n",
       "      <td>4.155831e+08</td>\n",
       "      <td>0</td>\n",
       "      <td>United States</td>\n",
       "    </tr>\n",
       "  </tbody>\n",
       "</table>\n",
       "</div>"
      ],
      "text/plain": [
       "   user_id          signup_time        purchase_time  purchase_value  \\\n",
       "0    22058  2015-02-24 22:55:49  2015-04-18 02:47:11              34   \n",
       "1   333320  2015-06-07 20:39:50  2015-06-08 01:38:54              16   \n",
       "2     1359  2015-01-01 18:52:44  2015-01-01 18:52:45              15   \n",
       "3   150084  2015-04-28 21:13:25  2015-05-04 13:54:50              44   \n",
       "4   221365  2015-07-21 07:09:52  2015-09-09 18:40:53              39   \n",
       "\n",
       "       device_id source browser sex  age    ip_address  class        country  \n",
       "0  QVPSPJUOCKZAR    SEO  Chrome   M   39  7.327584e+08      0          Japan  \n",
       "1  EOGFQPIZPYXFZ    Ads  Chrome   F   53  3.503114e+08      0  United States  \n",
       "2  YSSKYOSJHPPLJ    SEO   Opera   M   53  2.621474e+09      1  United States  \n",
       "3  ATGTXKYKUDUQN    SEO  Safari   M   41  3.840542e+09      0        Missing  \n",
       "4  NAUITBZFJKHWW    Ads  Safari   M   45  4.155831e+08      0  United States  "
      ]
     },
     "execution_count": 4,
     "metadata": {},
     "output_type": "execute_result"
    }
   ],
   "source": [
    "fraud_df.head()"
   ]
  },
  {
   "cell_type": "code",
   "execution_count": 5,
   "metadata": {},
   "outputs": [
    {
     "data": {
      "text/html": [
       "<div>\n",
       "<style scoped>\n",
       "    .dataframe tbody tr th:only-of-type {\n",
       "        vertical-align: middle;\n",
       "    }\n",
       "\n",
       "    .dataframe tbody tr th {\n",
       "        vertical-align: top;\n",
       "    }\n",
       "\n",
       "    .dataframe thead th {\n",
       "        text-align: right;\n",
       "    }\n",
       "</style>\n",
       "<table border=\"1\" class=\"dataframe\">\n",
       "  <thead>\n",
       "    <tr style=\"text-align: right;\">\n",
       "      <th></th>\n",
       "      <th>user_id</th>\n",
       "      <th>purchase_value</th>\n",
       "      <th>age</th>\n",
       "      <th>ip_address</th>\n",
       "      <th>class</th>\n",
       "    </tr>\n",
       "  </thead>\n",
       "  <tbody>\n",
       "    <tr>\n",
       "      <td>count</td>\n",
       "      <td>151112.000000</td>\n",
       "      <td>151112.000000</td>\n",
       "      <td>151112.000000</td>\n",
       "      <td>1.511120e+05</td>\n",
       "      <td>151112.000000</td>\n",
       "    </tr>\n",
       "    <tr>\n",
       "      <td>mean</td>\n",
       "      <td>200171.040970</td>\n",
       "      <td>36.935372</td>\n",
       "      <td>33.140704</td>\n",
       "      <td>2.152145e+09</td>\n",
       "      <td>0.093646</td>\n",
       "    </tr>\n",
       "    <tr>\n",
       "      <td>std</td>\n",
       "      <td>115369.285024</td>\n",
       "      <td>18.322762</td>\n",
       "      <td>8.617733</td>\n",
       "      <td>1.248497e+09</td>\n",
       "      <td>0.291336</td>\n",
       "    </tr>\n",
       "    <tr>\n",
       "      <td>min</td>\n",
       "      <td>2.000000</td>\n",
       "      <td>9.000000</td>\n",
       "      <td>18.000000</td>\n",
       "      <td>5.209350e+04</td>\n",
       "      <td>0.000000</td>\n",
       "    </tr>\n",
       "    <tr>\n",
       "      <td>25%</td>\n",
       "      <td>100642.500000</td>\n",
       "      <td>22.000000</td>\n",
       "      <td>27.000000</td>\n",
       "      <td>1.085934e+09</td>\n",
       "      <td>0.000000</td>\n",
       "    </tr>\n",
       "    <tr>\n",
       "      <td>50%</td>\n",
       "      <td>199958.000000</td>\n",
       "      <td>35.000000</td>\n",
       "      <td>33.000000</td>\n",
       "      <td>2.154770e+09</td>\n",
       "      <td>0.000000</td>\n",
       "    </tr>\n",
       "    <tr>\n",
       "      <td>75%</td>\n",
       "      <td>300054.000000</td>\n",
       "      <td>49.000000</td>\n",
       "      <td>39.000000</td>\n",
       "      <td>3.243258e+09</td>\n",
       "      <td>0.000000</td>\n",
       "    </tr>\n",
       "    <tr>\n",
       "      <td>max</td>\n",
       "      <td>400000.000000</td>\n",
       "      <td>154.000000</td>\n",
       "      <td>76.000000</td>\n",
       "      <td>4.294850e+09</td>\n",
       "      <td>1.000000</td>\n",
       "    </tr>\n",
       "  </tbody>\n",
       "</table>\n",
       "</div>"
      ],
      "text/plain": [
       "             user_id  purchase_value            age    ip_address  \\\n",
       "count  151112.000000   151112.000000  151112.000000  1.511120e+05   \n",
       "mean   200171.040970       36.935372      33.140704  2.152145e+09   \n",
       "std    115369.285024       18.322762       8.617733  1.248497e+09   \n",
       "min         2.000000        9.000000      18.000000  5.209350e+04   \n",
       "25%    100642.500000       22.000000      27.000000  1.085934e+09   \n",
       "50%    199958.000000       35.000000      33.000000  2.154770e+09   \n",
       "75%    300054.000000       49.000000      39.000000  3.243258e+09   \n",
       "max    400000.000000      154.000000      76.000000  4.294850e+09   \n",
       "\n",
       "               class  \n",
       "count  151112.000000  \n",
       "mean        0.093646  \n",
       "std         0.291336  \n",
       "min         0.000000  \n",
       "25%         0.000000  \n",
       "50%         0.000000  \n",
       "75%         0.000000  \n",
       "max         1.000000  "
      ]
     },
     "execution_count": 5,
     "metadata": {},
     "output_type": "execute_result"
    }
   ],
   "source": [
    "fraud_df.describe()"
   ]
  },
  {
   "cell_type": "markdown",
   "metadata": {},
   "source": [
    "Al igual que en el notebook 3, debemos fijarnos si hay __entradas faltantes__ y en caso afirmativo decidir qué hacer con ellas (eliminarlas o estimarlas)."
   ]
  },
  {
   "cell_type": "code",
   "execution_count": 6,
   "metadata": {},
   "outputs": [
    {
     "name": "stdout",
     "output_type": "stream",
     "text": [
      "user_id\n",
      "False    151112\n",
      "Name: user_id, dtype: int64\n",
      "\n",
      "signup_time\n",
      "False    151112\n",
      "Name: signup_time, dtype: int64\n",
      "\n",
      "purchase_time\n",
      "False    151112\n",
      "Name: purchase_time, dtype: int64\n",
      "\n",
      "purchase_value\n",
      "False    151112\n",
      "Name: purchase_value, dtype: int64\n",
      "\n",
      "device_id\n",
      "False    151112\n",
      "Name: device_id, dtype: int64\n",
      "\n",
      "source\n",
      "False    151112\n",
      "Name: source, dtype: int64\n",
      "\n",
      "browser\n",
      "False    151112\n",
      "Name: browser, dtype: int64\n",
      "\n",
      "sex\n",
      "False    151112\n",
      "Name: sex, dtype: int64\n",
      "\n",
      "age\n",
      "False    151112\n",
      "Name: age, dtype: int64\n",
      "\n",
      "ip_address\n",
      "False    151112\n",
      "Name: ip_address, dtype: int64\n",
      "\n",
      "class\n",
      "False    151112\n",
      "Name: class, dtype: int64\n",
      "\n",
      "country\n",
      "False    151112\n",
      "Name: country, dtype: int64\n",
      "\n"
     ]
    }
   ],
   "source": [
    "missing_data = fraud_df.isnull()\n",
    "for column in missing_data.columns.values.tolist():\n",
    "    print(column)\n",
    "    print (missing_data[column].value_counts())\n",
    "    print(\"\")  "
   ]
  },
  {
   "cell_type": "markdown",
   "metadata": {},
   "source": [
    "Por lo tanto, no hay datos faltantes (probablemente, estos hayan sido eliminados previamente).\n",
    "\n",
    "<h2><font size=3>1.2 Visualizazión de los datos </font></h2>\n",
    "\n",
    "Estas visualizaciones nos ayudarán a entender la relación entre las distintas variables.\n",
    "\n",
    "__1.2.1 ¿El sexo del usuario influye?__"
   ]
  },
  {
   "cell_type": "code",
   "execution_count": 7,
   "metadata": {},
   "outputs": [
    {
     "data": {
      "text/plain": [
       "Text(0, 0.5, 'Counts')"
      ]
     },
     "execution_count": 7,
     "metadata": {},
     "output_type": "execute_result"
    },
    {
     "data": {
      "image/png": "[encoded data removed]",
      "text/plain": [
       "<Figure size 432x288 with 1 Axes>"
      ]
     },
     "metadata": {
      "needs_background": "light"
     },
     "output_type": "display_data"
    }
   ],
   "source": [
    "sns.countplot(x='sex', hue='class', data=fraud_df)\n",
    "plt.xlabel(\"Gender\", fontsize=15)\n",
    "plt.ylabel(\"Counts\", fontsize=15)"
   ]
  },
  {
   "cell_type": "markdown",
   "metadata": {},
   "source": [
    "Se puede observar que hay más fraudes cometidos por hombres que por mujeres. Sin embargo, __no debemos apresurarnos__ a sacar conclusiones ya que también hay más usuarios hombres en la base de datos.\n",
    "\n",
    "Para refinar nuestro análisis debemos calcular la proporción de hombres y mujeres que cometen fraudes."
   ]
  },
  {
   "cell_type": "code",
   "execution_count": 8,
   "metadata": {},
   "outputs": [
    {
     "data": {
      "text/plain": [
       "M    88293\n",
       "F    62819\n",
       "Name: sex, dtype: int64"
      ]
     },
     "execution_count": 8,
     "metadata": {},
     "output_type": "execute_result"
    }
   ],
   "source": [
    "fraud_df[\"sex\"].value_counts()"
   ]
  },
  {
   "cell_type": "code",
   "execution_count": 9,
   "metadata": {},
   "outputs": [
    {
     "data": {
      "text/html": [
       "<div>\n",
       "<style scoped>\n",
       "    .dataframe tbody tr th:only-of-type {\n",
       "        vertical-align: middle;\n",
       "    }\n",
       "\n",
       "    .dataframe tbody tr th {\n",
       "        vertical-align: top;\n",
       "    }\n",
       "\n",
       "    .dataframe thead th {\n",
       "        text-align: right;\n",
       "    }\n",
       "</style>\n",
       "<table border=\"1\" class=\"dataframe\">\n",
       "  <thead>\n",
       "    <tr style=\"text-align: right;\">\n",
       "      <th></th>\n",
       "      <th>count</th>\n",
       "      <th>mean</th>\n",
       "      <th>std</th>\n",
       "      <th>min</th>\n",
       "      <th>25%</th>\n",
       "      <th>50%</th>\n",
       "      <th>75%</th>\n",
       "      <th>max</th>\n",
       "    </tr>\n",
       "    <tr>\n",
       "      <th>sex</th>\n",
       "      <th></th>\n",
       "      <th></th>\n",
       "      <th></th>\n",
       "      <th></th>\n",
       "      <th></th>\n",
       "      <th></th>\n",
       "      <th></th>\n",
       "      <th></th>\n",
       "    </tr>\n",
       "  </thead>\n",
       "  <tbody>\n",
       "    <tr>\n",
       "      <td>F</td>\n",
       "      <td>62819.0</td>\n",
       "      <td>0.091007</td>\n",
       "      <td>0.287622</td>\n",
       "      <td>0.0</td>\n",
       "      <td>0.0</td>\n",
       "      <td>0.0</td>\n",
       "      <td>0.0</td>\n",
       "      <td>1.0</td>\n",
       "    </tr>\n",
       "    <tr>\n",
       "      <td>M</td>\n",
       "      <td>88293.0</td>\n",
       "      <td>0.095523</td>\n",
       "      <td>0.293937</td>\n",
       "      <td>0.0</td>\n",
       "      <td>0.0</td>\n",
       "      <td>0.0</td>\n",
       "      <td>0.0</td>\n",
       "      <td>1.0</td>\n",
       "    </tr>\n",
       "  </tbody>\n",
       "</table>\n",
       "</div>"
      ],
      "text/plain": [
       "       count      mean       std  min  25%  50%  75%  max\n",
       "sex                                                      \n",
       "F    62819.0  0.091007  0.287622  0.0  0.0  0.0  0.0  1.0\n",
       "M    88293.0  0.095523  0.293937  0.0  0.0  0.0  0.0  1.0"
      ]
     },
     "execution_count": 9,
     "metadata": {},
     "output_type": "execute_result"
    }
   ],
   "source": [
    "fraud_df.groupby(\"sex\")[\"class\"].describe()"
   ]
  },
  {
   "cell_type": "markdown",
   "metadata": {},
   "source": [
    "Observando el campo __mean__ (proporción de hombres y mujeres fraudulentos) vemos que: __no hay diferencias significativas entre la proporción de hombres y mujeres que cometen fraudes__. Por lo tanto, este feature no se va a poder usar para estimar la probabilidad de que un usuario cometa fraudes.\n",
    "\n",
    "__1.2.2 ¿El valor de la compra influye?__"
   ]
  },
  {
   "cell_type": "code",
   "execution_count": 10,
   "metadata": {},
   "outputs": [
    {
     "name": "stderr",
     "output_type": "stream",
     "text": [
      "c:\\users\\juanelenter\\appdata\\local\\programs\\python\\python37-32\\lib\\site-packages\\seaborn\\categorical.py:3666: UserWarning: The `factorplot` function has been renamed to `catplot`. The original name will be removed in a future release. Please update your code. Note that the default `kind` in `factorplot` (`'point'`) has changed `'strip'` in `catplot`.\n",
      "  warnings.warn(msg)\n"
     ]
    },
    {
     "data": {
      "text/plain": [
       "Text(0.42499999999999716, 0.5, 'Purchase Value')"
      ]
     },
     "execution_count": 10,
     "metadata": {},
     "output_type": "execute_result"
    },
    {
     "data": {
      "image/png": "[encoded data removed]",
      "text/plain": [
       "<Figure size 360x360 with 1 Axes>"
      ]
     },
     "metadata": {
      "needs_background": "light"
     },
     "output_type": "display_data"
    }
   ],
   "source": [
    "sns.factorplot(x=\"class\", y=\"purchase_value\", data=fraud_df)\n",
    "plt.xlabel(\"Fraud (1) / No fraud (0)\", fontsize=15)\n",
    "plt.ylabel(\"Purchase Value\", fontsize=15)"
   ]
  },
  {
   "cell_type": "code",
   "execution_count": 11,
   "metadata": {},
   "outputs": [
    {
     "name": "stdout",
     "output_type": "stream",
     "text": [
      "La diferencia entre promedios es de 0.06358616450449972\n"
     ]
    }
   ],
   "source": [
    "diferencia_de_promedios = fraud_df[fraud_df[\"class\"] == 1][\"purchase_value\"].mean()-fraud_df[fraud_df[\"class\"] == 0][\"purchase_value\"].mean()\n",
    "print(f\"La diferencia entre promedios es de {diferencia_de_promedios}\")"
   ]
  },
  {
   "cell_type": "markdown",
   "metadata": {},
   "source": [
    "La diferencia entre los promedios de las compras de usuarios fraudulentos y no fraudulentos es muy pequeña. Además, los rangos de estos valores se superponen significativamente. \n",
    "\n",
    "Por estas dos razones, __no utilizaremos el valor de compra__ cómo un estimador."
   ]
  },
  {
   "cell_type": "markdown",
   "metadata": {},
   "source": [
    "__1.2.3 ¿La supuesta edad del usuario influye?__"
   ]
  },
  {
   "cell_type": "code",
   "execution_count": 12,
   "metadata": {},
   "outputs": [
    {
     "data": {
      "text/plain": [
       "Text(-5.825000000000003, 0.5, 'Age')"
      ]
     },
     "execution_count": 12,
     "metadata": {},
     "output_type": "execute_result"
    },
    {
     "data": {
      "image/png": "[encoded data removed]",
      "text/plain": [
       "<Figure size 360x360 with 1 Axes>"
      ]
     },
     "metadata": {
      "needs_background": "light"
     },
     "output_type": "display_data"
    }
   ],
   "source": [
    "sns.factorplot(x=\"class\", y=\"age\", data=fraud_df)\n",
    "plt.xlabel(\"Fraud (1) / No fraud (0)\", fontsize=15)\n",
    "plt.ylabel(\"Age\", fontsize=15)"
   ]
  },
  {
   "cell_type": "code",
   "execution_count": 13,
   "metadata": {},
   "outputs": [
    {
     "name": "stdout",
     "output_type": "stream",
     "text": [
      "La diferencia entre promedios es de 0.19592539438804835\n"
     ]
    }
   ],
   "source": [
    "diferencia_de_promedios = fraud_df[fraud_df[\"class\"] == 1][\"age\"].mean()-fraud_df[fraud_df[\"class\"] == 0][\"age\"].mean()\n",
    "print(f\"La diferencia entre promedios es de {abs(diferencia_de_promedios)}\")"
   ]
  },
  {
   "cell_type": "markdown",
   "metadata": {},
   "source": [
    "En este caso, si bien los rangos no están tan solapados, la diferencia de promedios es muy pequeña, por lo que no será utilizado cómo un estimador."
   ]
  },
  {
   "cell_type": "markdown",
   "metadata": {},
   "source": [
    "__1.2.4 Navegador__"
   ]
  },
  {
   "cell_type": "code",
   "execution_count": 14,
   "metadata": {},
   "outputs": [
    {
     "data": {
      "text/plain": [
       "Text(0, 0.5, 'Counts')"
      ]
     },
     "execution_count": 14,
     "metadata": {},
     "output_type": "execute_result"
    },
    {
     "data": {
      "image/png": "[encoded data removed]",
      "text/plain": [
       "<Figure size 432x288 with 1 Axes>"
      ]
     },
     "metadata": {
      "needs_background": "light"
     },
     "output_type": "display_data"
    }
   ],
   "source": [
    "sns.countplot(x='browser', hue='class', data=fraud_df)\n",
    "plt.xlabel(\"Web Browser\", fontsize=15)\n",
    "plt.ylabel(\"Counts\", fontsize=15)"
   ]
  },
  {
   "cell_type": "markdown",
   "metadata": {},
   "source": [
    "Este caso es similar al del sexo del usuario. Hay muchos más usuarios fraudulentos que utilizan Chrome que Opera, pero observando el histograma podemos deducir que esto se debe a que simplemente hay más usuarios que utilizan Chrom que Opera.\n",
    "\n",
    "Observemos las proporciones:"
   ]
  },
  {
   "cell_type": "code",
   "execution_count": 15,
   "metadata": {},
   "outputs": [
    {
     "data": {
      "text/html": [
       "<div>\n",
       "<style scoped>\n",
       "    .dataframe tbody tr th:only-of-type {\n",
       "        vertical-align: middle;\n",
       "    }\n",
       "\n",
       "    .dataframe tbody tr th {\n",
       "        vertical-align: top;\n",
       "    }\n",
       "\n",
       "    .dataframe thead th {\n",
       "        text-align: right;\n",
       "    }\n",
       "</style>\n",
       "<table border=\"1\" class=\"dataframe\">\n",
       "  <thead>\n",
       "    <tr style=\"text-align: right;\">\n",
       "      <th></th>\n",
       "      <th>count</th>\n",
       "      <th>mean</th>\n",
       "      <th>std</th>\n",
       "      <th>min</th>\n",
       "      <th>25%</th>\n",
       "      <th>50%</th>\n",
       "      <th>75%</th>\n",
       "      <th>max</th>\n",
       "    </tr>\n",
       "    <tr>\n",
       "      <th>browser</th>\n",
       "      <th></th>\n",
       "      <th></th>\n",
       "      <th></th>\n",
       "      <th></th>\n",
       "      <th></th>\n",
       "      <th></th>\n",
       "      <th></th>\n",
       "      <th></th>\n",
       "    </tr>\n",
       "  </thead>\n",
       "  <tbody>\n",
       "    <tr>\n",
       "      <td>Chrome</td>\n",
       "      <td>61432.0</td>\n",
       "      <td>0.098792</td>\n",
       "      <td>0.298385</td>\n",
       "      <td>0.0</td>\n",
       "      <td>0.0</td>\n",
       "      <td>0.0</td>\n",
       "      <td>0.0</td>\n",
       "      <td>1.0</td>\n",
       "    </tr>\n",
       "    <tr>\n",
       "      <td>FireFox</td>\n",
       "      <td>24610.0</td>\n",
       "      <td>0.095165</td>\n",
       "      <td>0.293448</td>\n",
       "      <td>0.0</td>\n",
       "      <td>0.0</td>\n",
       "      <td>0.0</td>\n",
       "      <td>0.0</td>\n",
       "      <td>1.0</td>\n",
       "    </tr>\n",
       "    <tr>\n",
       "      <td>IE</td>\n",
       "      <td>36727.0</td>\n",
       "      <td>0.086775</td>\n",
       "      <td>0.281509</td>\n",
       "      <td>0.0</td>\n",
       "      <td>0.0</td>\n",
       "      <td>0.0</td>\n",
       "      <td>0.0</td>\n",
       "      <td>1.0</td>\n",
       "    </tr>\n",
       "    <tr>\n",
       "      <td>Opera</td>\n",
       "      <td>3676.0</td>\n",
       "      <td>0.089227</td>\n",
       "      <td>0.285111</td>\n",
       "      <td>0.0</td>\n",
       "      <td>0.0</td>\n",
       "      <td>0.0</td>\n",
       "      <td>0.0</td>\n",
       "      <td>1.0</td>\n",
       "    </tr>\n",
       "    <tr>\n",
       "      <td>Safari</td>\n",
       "      <td>24667.0</td>\n",
       "      <td>0.090201</td>\n",
       "      <td>0.286476</td>\n",
       "      <td>0.0</td>\n",
       "      <td>0.0</td>\n",
       "      <td>0.0</td>\n",
       "      <td>0.0</td>\n",
       "      <td>1.0</td>\n",
       "    </tr>\n",
       "  </tbody>\n",
       "</table>\n",
       "</div>"
      ],
      "text/plain": [
       "           count      mean       std  min  25%  50%  75%  max\n",
       "browser                                                      \n",
       "Chrome   61432.0  0.098792  0.298385  0.0  0.0  0.0  0.0  1.0\n",
       "FireFox  24610.0  0.095165  0.293448  0.0  0.0  0.0  0.0  1.0\n",
       "IE       36727.0  0.086775  0.281509  0.0  0.0  0.0  0.0  1.0\n",
       "Opera     3676.0  0.089227  0.285111  0.0  0.0  0.0  0.0  1.0\n",
       "Safari   24667.0  0.090201  0.286476  0.0  0.0  0.0  0.0  1.0"
      ]
     },
     "execution_count": 15,
     "metadata": {},
     "output_type": "execute_result"
    }
   ],
   "source": [
    "fraud_df.groupby(\"browser\")[\"class\"].describe()"
   ]
  },
  {
   "cell_type": "markdown",
   "metadata": {},
   "source": [
    "Es claro que este no será un buen indicador de peligro de fraude."
   ]
  },
  {
   "cell_type": "markdown",
   "metadata": {},
   "source": [
    "__1.2.5 País de origen__"
   ]
  },
  {
   "cell_type": "code",
   "execution_count": 16,
   "metadata": {},
   "outputs": [
    {
     "data": {
      "image/png": "[encoded data removed]",
      "text/plain": [
       "<Figure size 432x288 with 1 Axes>"
      ]
     },
     "metadata": {},
     "output_type": "display_data"
    }
   ],
   "source": [
    "sums = fraud_df[fraud_df[\"class\"] == 1][\"class\"].groupby(fraud_df.country).sum()\n",
    "plt.axis('equal')\n",
    "plt.pie(sums, labels=sums.index)\n",
    "plt.show()"
   ]
  },
  {
   "cell_type": "markdown",
   "metadata": {},
   "source": [
    "Resulta complejo representar todos los países gráficamente (son más de 200). Sin embargo, el __pie chart__ permite ver que países contribuyen en más proporción a los fraudes. "
   ]
  },
  {
   "cell_type": "code",
   "execution_count": 17,
   "metadata": {},
   "outputs": [
    {
     "data": {
      "text/plain": [
       "country\n",
       "Kyrgyzstan           0\n",
       "Maldives             0\n",
       "Madagascar           0\n",
       "Macau                0\n",
       "Liechtenstein        0\n",
       "                  ... \n",
       "United Kingdom     477\n",
       "Japan              715\n",
       "China             1043\n",
       "Missing           1883\n",
       "United States     5551\n",
       "Name: class, Length: 182, dtype: int64"
      ]
     },
     "execution_count": 17,
     "metadata": {},
     "output_type": "execute_result"
    }
   ],
   "source": [
    "fraudes_paises = fraud_df[\"class\"].groupby(fraud_df.country).sum()\n",
    "#sns.countplot(x='country', hue='class', data=fraud_df)\n",
    "fraud_df[\"class\"].groupby(fraud_df.country).sum().sort_values()"
   ]
  },
  {
   "cell_type": "code",
   "execution_count": 18,
   "metadata": {},
   "outputs": [
    {
     "data": {
      "text/plain": [
       "United States     58049\n",
       "Missing           21966\n",
       "China             12038\n",
       "Japan              7306\n",
       "United Kingdom     4490\n",
       "                  ...  \n",
       "Dominica              1\n",
       "Cape Verde            1\n",
       "South Sudan           1\n",
       "Gambia                1\n",
       "Tajikistan            1\n",
       "Name: country, Length: 182, dtype: int64"
      ]
     },
     "execution_count": 18,
     "metadata": {},
     "output_type": "execute_result"
    }
   ],
   "source": [
    "paises_totales = fraud_df[\"country\"].value_counts()\n",
    "fraud_df[\"country\"].value_counts()"
   ]
  },
  {
   "cell_type": "code",
   "execution_count": 19,
   "metadata": {},
   "outputs": [
    {
     "name": "stdout",
     "output_type": "stream",
     "text": [
      "United States 0.09562610897689883\n",
      "China 0.08664229938527995\n",
      "Missing 0.08572339069471001\n",
      "Bulgaria 0.012048192771084338\n",
      "San Marino 0.0\n"
     ]
    }
   ],
   "source": [
    "for p in [\"United States\", \"China\", \"Missing\", \"Bulgaria\", \"San Marino\"]:\n",
    "    print(p, fraudes_paises[p]/paises_totales[p])"
   ]
  },
  {
   "cell_type": "markdown",
   "metadata": {},
   "source": [
    "__1.2.6 Cantidad de usuarios asociados al mismo dispositivo o IP__"
   ]
  },
  {
   "cell_type": "markdown",
   "metadata": {},
   "source": [
    "Crearemos un nuevo data frame para estudiar la cantidad de usuarios asociados al mismo dispositivo o IP ya que este será uno de los indicadores fundamentales que utilziramos para construir el árbol de decisión."
   ]
  },
  {
   "cell_type": "code",
   "execution_count": 20,
   "metadata": {},
   "outputs": [
    {
     "data": {
      "text/plain": [
       "Text(16.299999999999997, 0.5, 'User ids per IP Address')"
      ]
     },
     "execution_count": 20,
     "metadata": {},
     "output_type": "execute_result"
    },
    {
     "data": {
      "image/png": "[encoded data removed]",
      "text/plain": [
       "<Figure size 360x360 with 1 Axes>"
      ]
     },
     "metadata": {
      "needs_background": "light"
     },
     "output_type": "display_data"
    },
    {
     "data": {
      "image/png": "[encoded data removed]",
      "text/plain": [
       "<Figure size 360x360 with 1 Axes>"
      ]
     },
     "metadata": {
      "needs_background": "light"
     },
     "output_type": "display_data"
    }
   ],
   "source": [
    "\n",
    "tmp_df = pd.DataFrame(columns=(\"class\", \"userids_per_deviceid\", \"userids_per_ipaddress\"))\n",
    "tmp_df[\"class\"] = fraud_df[\"class\"]\n",
    "\n",
    "# Contamos el numero de dispositivos asociados a cada usuario\n",
    "userid_count = fraud_df.groupby(\"device_id\").user_id.count()\n",
    "tmp_df[\"userids_per_deviceid\"] = fraud_df.device_id.apply(lambda x: userid_count[x])\n",
    "\n",
    "# Contamos el numero de IPs asociadas a cada usuario\n",
    "userid_count = fraud_df.groupby(\"ip_address\").user_id.count()\n",
    "tmp_df[\"userids_per_ipaddress\"] = fraud_df.ip_address.apply(lambda x: userid_count[x])\n",
    "\n",
    "sns.factorplot(x=\"class\", y=\"userids_per_deviceid\", data=tmp_df)\n",
    "plt.xlabel(\"Fraud (1) / No fraud (0)\", fontsize=15)\n",
    "plt.ylabel(\"User ids per Device\", fontsize=15)\n",
    "\n",
    "sns.factorplot(x=\"class\", y=\"userids_per_ipaddress\", data=tmp_df)\n",
    "plt.xlabel(\"Fraud (1) / No fraud (0)\", fontsize=15)\n",
    "plt.ylabel(\"User ids per IP Address\", fontsize=15)"
   ]
  },
  {
   "cell_type": "markdown",
   "metadata": {},
   "source": [
    "__1.2.7 ¿El tiempo entre sign up y compra influye?__"
   ]
  },
  {
   "cell_type": "code",
   "execution_count": 21,
   "metadata": {},
   "outputs": [
    {
     "data": {
      "text/plain": [
       "Text(-8.825000000000003, 0.5, 'Sign-up to Purchase Time (Seconds)')"
      ]
     },
     "execution_count": 21,
     "metadata": {},
     "output_type": "execute_result"
    },
    {
     "data": {
      "image/png": "[encoded data removed]",
      "text/plain": [
       "<Figure size 360x360 with 1 Axes>"
      ]
     },
     "metadata": {
      "needs_background": "light"
     },
     "output_type": "display_data"
    }
   ],
   "source": [
    "# Convert sign-up time and purchase time to datetime objects\n",
    "tmp_df[\"signup_time\"] = fraud_df.signup_time.apply(pd.to_datetime)\n",
    "tmp_df[\"purchase_time\"] = fraud_df.purchase_time.apply(pd.to_datetime)\n",
    "\n",
    "# Add columns for the number of seconds between purchase and sign-up times\n",
    "tmp_df[\"signup_to_purchase_seconds\"] = (tmp_df.purchase_time - tmp_df.signup_time).apply(lambda x: x.seconds)\n",
    "\n",
    "sns.factorplot(x=\"class\", y=\"signup_to_purchase_seconds\", data=tmp_df)\n",
    "plt.xlabel(\"Fraud (1) / No fraud (0)\", fontsize=15)\n",
    "plt.ylabel(\"Sign-up to Purchase Time (Seconds)\", fontsize=15)"
   ]
  },
  {
   "cell_type": "markdown",
   "metadata": {},
   "source": [
    "__1.2.8 ¿El momento (hora, día, semana) influye?__"
   ]
  },
  {
   "cell_type": "code",
   "execution_count": 22,
   "metadata": {},
   "outputs": [
    {
     "data": {
      "text/plain": [
       "Text(0, 0.5, 'Count')"
      ]
     },
     "execution_count": 22,
     "metadata": {},
     "output_type": "execute_result"
    },
    {
     "data": {
      "image/png": "[encoded data removed]",
      "text/plain": [
       "<Figure size 432x288 with 1 Axes>"
      ]
     },
     "metadata": {
      "needs_background": "light"
     },
     "output_type": "display_data"
    }
   ],
   "source": [
    "tmp_df[tmp_df[\"class\"] == 1].signup_time.apply(lambda x: x.hour).hist()\n",
    "plt.xlabel(\"Hour of Day\", fontsize=15)\n",
    "plt.ylabel(\"Count\", fontsize=15)"
   ]
  },
  {
   "cell_type": "code",
   "execution_count": 23,
   "metadata": {},
   "outputs": [
    {
     "data": {
      "text/plain": [
       "Text(0, 0.5, 'Count')"
      ]
     },
     "execution_count": 23,
     "metadata": {},
     "output_type": "execute_result"
    },
    {
     "data": {
      "image/png": "[encoded data removed]",
      "text/plain": [
       "<Figure size 432x288 with 1 Axes>"
      ]
     },
     "metadata": {
      "needs_background": "light"
     },
     "output_type": "display_data"
    }
   ],
   "source": [
    "tmp_df[tmp_df[\"class\"] == 1].signup_time.apply(lambda x: x.dayofweek).hist()\n",
    "plt.xlabel(\"Day of Week\", fontsize=15)\n",
    "plt.ylabel(\"Count\", fontsize=15)"
   ]
  },
  {
   "cell_type": "code",
   "execution_count": 24,
   "metadata": {},
   "outputs": [
    {
     "data": {
      "text/plain": [
       "Text(0, 0.5, 'Count')"
      ]
     },
     "execution_count": 24,
     "metadata": {},
     "output_type": "execute_result"
    },
    {
     "data": {
      "image/png": "[encoded data removed]",
      "text/plain": [
       "<Figure size 432x288 with 1 Axes>"
      ]
     },
     "metadata": {
      "needs_background": "light"
     },
     "output_type": "display_data"
    }
   ],
   "source": [
    "tmp_df[tmp_df[\"class\"] == 1].signup_time.apply(lambda x: x.week).hist()\n",
    "plt.xlabel(\"Week of the Year\", fontsize=15)\n",
    "plt.ylabel(\"Count\", fontsize=15)"
   ]
  },
  {
   "cell_type": "markdown",
   "metadata": {},
   "source": [
    "## 2. Ingeniería de características\n",
    "\n",
    "### 2.1 Setup del data frame.\n",
    "En esta sección crearemos un nuevo data frame en el cual incluiremos una versión modificada de las características elegidas en la sección anterior.\n",
    "Las modificaciones de estas características tienen cómo objetivo construir un modelo más preciso.\n",
    "\n",
    "Utilizaremos: \n",
    "\n",
    "    - Cantidad de usuarios por dispositivo/IP (unidos en un sólo feature).\n",
    "    - Tiempo entre sign up y compra.\n",
    "    - \"One-Hot-Encoding\" features para cada país."
   ]
  },
  {
   "cell_type": "code",
   "execution_count": 33,
   "metadata": {},
   "outputs": [],
   "source": [
    "# Para evitar errores, volvemos a cargar el df.\n",
    "fraud_df = pd.read_csv(\"Fraud_Data/Fraud_Data_with_Countries.csv\", header=0)\n",
    "\n",
    "# Agrego columna con el numero de user ids asociados a un device id\n",
    "userid_count = fraud_df.groupby(\"device_id\").user_id.count()\n",
    "fraud_df[\"userids_per_deviceid\"] = fraud_df.device_id.apply(lambda x: userid_count[x])\n",
    "\n",
    "# Agrego columna con el numero de user ids asociados a cada ip\n",
    "userid_count = fraud_df.groupby(\"ip_address\").user_id.count()\n",
    "fraud_df[\"userids_per_ipaddress\"] = fraud_df.ip_address.apply(lambda x: userid_count[x])\n",
    "\n",
    "# Utilizaremos el promedio de estas dos columnas cómo único feature\n",
    "fraud_df[\"mean_number_of_userids\"] = (fraud_df.userids_per_deviceid + fraud_df.userids_per_ipaddress) * 0.5\n",
    "\n",
    "# Formateo de tiempos\n",
    "fraud_df.signup_time = fraud_df.signup_time.apply(pd.to_datetime)\n",
    "fraud_df.purchase_time = fraud_df.purchase_time.apply(pd.to_datetime)\n",
    "\n",
    "# Agrego columnas con tiempo de compra en segundos\n",
    "fraud_df[\"signup_to_purchase_seconds\"] = (fraud_df.purchase_time - fraud_df.signup_time).apply(lambda x: x.seconds)\n",
    "\n",
    "# Creamos \"dummy columns\" para usar esta variable categorica cómo predictor.\n",
    "country_dummies = pd.get_dummies(fraud_df.country, prefix='country')\n",
    "fraud_df = pd.concat([fraud_df, country_dummies], axis=1)\n",
    "\n",
    "#Eliminamos las columnas que no utilizaremos\n",
    "fraud_df.drop([\"user_id\", \n",
    "               \"signup_time\", \n",
    "               \"purchase_time\", \n",
    "               \"device_id\", \n",
    "               \"ip_address\", \n",
    "               \"userids_per_deviceid\",\n",
    "               \"userids_per_ipaddress\",\n",
    "               \"country\",\n",
    "               \"source\",\n",
    "               \"browser\",\n",
    "               \"sex\",\n",
    "               \"age\",\n",
    "               \"purchase_value\"\n",
    "               ], axis=1, inplace=True)"
   ]
  },
  {
   "cell_type": "code",
   "execution_count": 26,
   "metadata": {},
   "outputs": [
    {
     "data": {
      "text/html": [
       "<div>\n",
       "<style scoped>\n",
       "    .dataframe tbody tr th:only-of-type {\n",
       "        vertical-align: middle;\n",
       "    }\n",
       "\n",
       "    .dataframe tbody tr th {\n",
       "        vertical-align: top;\n",
       "    }\n",
       "\n",
       "    .dataframe thead th {\n",
       "        text-align: right;\n",
       "    }\n",
       "</style>\n",
       "<table border=\"1\" class=\"dataframe\">\n",
       "  <thead>\n",
       "    <tr style=\"text-align: right;\">\n",
       "      <th></th>\n",
       "      <th>class</th>\n",
       "      <th>mean_number_of_userids</th>\n",
       "      <th>signup_to_purchase_seconds</th>\n",
       "      <th>country_Afghanistan</th>\n",
       "      <th>country_Albania</th>\n",
       "      <th>country_Algeria</th>\n",
       "      <th>country_Angola</th>\n",
       "      <th>country_Antigua and Barbuda</th>\n",
       "      <th>country_Argentina</th>\n",
       "      <th>country_Armenia</th>\n",
       "      <th>...</th>\n",
       "      <th>country_United States</th>\n",
       "      <th>country_Uruguay</th>\n",
       "      <th>country_Uzbekistan</th>\n",
       "      <th>country_Vanuatu</th>\n",
       "      <th>country_Venezuela</th>\n",
       "      <th>country_Viet Nam</th>\n",
       "      <th>country_Virgin Islands (U.S.)</th>\n",
       "      <th>country_Yemen</th>\n",
       "      <th>country_Zambia</th>\n",
       "      <th>country_Zimbabwe</th>\n",
       "    </tr>\n",
       "  </thead>\n",
       "  <tbody>\n",
       "    <tr>\n",
       "      <td>0</td>\n",
       "      <td>0</td>\n",
       "      <td>1.0</td>\n",
       "      <td>13882</td>\n",
       "      <td>0</td>\n",
       "      <td>0</td>\n",
       "      <td>0</td>\n",
       "      <td>0</td>\n",
       "      <td>0</td>\n",
       "      <td>0</td>\n",
       "      <td>0</td>\n",
       "      <td>...</td>\n",
       "      <td>0</td>\n",
       "      <td>0</td>\n",
       "      <td>0</td>\n",
       "      <td>0</td>\n",
       "      <td>0</td>\n",
       "      <td>0</td>\n",
       "      <td>0</td>\n",
       "      <td>0</td>\n",
       "      <td>0</td>\n",
       "      <td>0</td>\n",
       "    </tr>\n",
       "    <tr>\n",
       "      <td>1</td>\n",
       "      <td>0</td>\n",
       "      <td>1.0</td>\n",
       "      <td>17944</td>\n",
       "      <td>0</td>\n",
       "      <td>0</td>\n",
       "      <td>0</td>\n",
       "      <td>0</td>\n",
       "      <td>0</td>\n",
       "      <td>0</td>\n",
       "      <td>0</td>\n",
       "      <td>...</td>\n",
       "      <td>1</td>\n",
       "      <td>0</td>\n",
       "      <td>0</td>\n",
       "      <td>0</td>\n",
       "      <td>0</td>\n",
       "      <td>0</td>\n",
       "      <td>0</td>\n",
       "      <td>0</td>\n",
       "      <td>0</td>\n",
       "      <td>0</td>\n",
       "    </tr>\n",
       "    <tr>\n",
       "      <td>2</td>\n",
       "      <td>1</td>\n",
       "      <td>12.0</td>\n",
       "      <td>1</td>\n",
       "      <td>0</td>\n",
       "      <td>0</td>\n",
       "      <td>0</td>\n",
       "      <td>0</td>\n",
       "      <td>0</td>\n",
       "      <td>0</td>\n",
       "      <td>0</td>\n",
       "      <td>...</td>\n",
       "      <td>1</td>\n",
       "      <td>0</td>\n",
       "      <td>0</td>\n",
       "      <td>0</td>\n",
       "      <td>0</td>\n",
       "      <td>0</td>\n",
       "      <td>0</td>\n",
       "      <td>0</td>\n",
       "      <td>0</td>\n",
       "      <td>0</td>\n",
       "    </tr>\n",
       "    <tr>\n",
       "      <td>3</td>\n",
       "      <td>0</td>\n",
       "      <td>1.0</td>\n",
       "      <td>60085</td>\n",
       "      <td>0</td>\n",
       "      <td>0</td>\n",
       "      <td>0</td>\n",
       "      <td>0</td>\n",
       "      <td>0</td>\n",
       "      <td>0</td>\n",
       "      <td>0</td>\n",
       "      <td>...</td>\n",
       "      <td>0</td>\n",
       "      <td>0</td>\n",
       "      <td>0</td>\n",
       "      <td>0</td>\n",
       "      <td>0</td>\n",
       "      <td>0</td>\n",
       "      <td>0</td>\n",
       "      <td>0</td>\n",
       "      <td>0</td>\n",
       "      <td>0</td>\n",
       "    </tr>\n",
       "    <tr>\n",
       "      <td>4</td>\n",
       "      <td>0</td>\n",
       "      <td>1.0</td>\n",
       "      <td>41461</td>\n",
       "      <td>0</td>\n",
       "      <td>0</td>\n",
       "      <td>0</td>\n",
       "      <td>0</td>\n",
       "      <td>0</td>\n",
       "      <td>0</td>\n",
       "      <td>0</td>\n",
       "      <td>...</td>\n",
       "      <td>1</td>\n",
       "      <td>0</td>\n",
       "      <td>0</td>\n",
       "      <td>0</td>\n",
       "      <td>0</td>\n",
       "      <td>0</td>\n",
       "      <td>0</td>\n",
       "      <td>0</td>\n",
       "      <td>0</td>\n",
       "      <td>0</td>\n",
       "    </tr>\n",
       "    <tr>\n",
       "      <td>5</td>\n",
       "      <td>0</td>\n",
       "      <td>1.0</td>\n",
       "      <td>7331</td>\n",
       "      <td>0</td>\n",
       "      <td>0</td>\n",
       "      <td>0</td>\n",
       "      <td>0</td>\n",
       "      <td>0</td>\n",
       "      <td>0</td>\n",
       "      <td>0</td>\n",
       "      <td>...</td>\n",
       "      <td>0</td>\n",
       "      <td>0</td>\n",
       "      <td>0</td>\n",
       "      <td>0</td>\n",
       "      <td>0</td>\n",
       "      <td>0</td>\n",
       "      <td>0</td>\n",
       "      <td>0</td>\n",
       "      <td>0</td>\n",
       "      <td>0</td>\n",
       "    </tr>\n",
       "    <tr>\n",
       "      <td>6</td>\n",
       "      <td>0</td>\n",
       "      <td>1.0</td>\n",
       "      <td>17825</td>\n",
       "      <td>0</td>\n",
       "      <td>0</td>\n",
       "      <td>0</td>\n",
       "      <td>0</td>\n",
       "      <td>0</td>\n",
       "      <td>0</td>\n",
       "      <td>0</td>\n",
       "      <td>...</td>\n",
       "      <td>0</td>\n",
       "      <td>0</td>\n",
       "      <td>0</td>\n",
       "      <td>0</td>\n",
       "      <td>0</td>\n",
       "      <td>0</td>\n",
       "      <td>0</td>\n",
       "      <td>0</td>\n",
       "      <td>0</td>\n",
       "      <td>0</td>\n",
       "    </tr>\n",
       "    <tr>\n",
       "      <td>7</td>\n",
       "      <td>0</td>\n",
       "      <td>1.0</td>\n",
       "      <td>35129</td>\n",
       "      <td>0</td>\n",
       "      <td>0</td>\n",
       "      <td>0</td>\n",
       "      <td>0</td>\n",
       "      <td>0</td>\n",
       "      <td>0</td>\n",
       "      <td>0</td>\n",
       "      <td>...</td>\n",
       "      <td>1</td>\n",
       "      <td>0</td>\n",
       "      <td>0</td>\n",
       "      <td>0</td>\n",
       "      <td>0</td>\n",
       "      <td>0</td>\n",
       "      <td>0</td>\n",
       "      <td>0</td>\n",
       "      <td>0</td>\n",
       "      <td>0</td>\n",
       "    </tr>\n",
       "    <tr>\n",
       "      <td>8</td>\n",
       "      <td>0</td>\n",
       "      <td>1.0</td>\n",
       "      <td>51800</td>\n",
       "      <td>0</td>\n",
       "      <td>0</td>\n",
       "      <td>0</td>\n",
       "      <td>0</td>\n",
       "      <td>0</td>\n",
       "      <td>0</td>\n",
       "      <td>0</td>\n",
       "      <td>...</td>\n",
       "      <td>0</td>\n",
       "      <td>0</td>\n",
       "      <td>0</td>\n",
       "      <td>0</td>\n",
       "      <td>0</td>\n",
       "      <td>0</td>\n",
       "      <td>0</td>\n",
       "      <td>0</td>\n",
       "      <td>0</td>\n",
       "      <td>0</td>\n",
       "    </tr>\n",
       "    <tr>\n",
       "      <td>9</td>\n",
       "      <td>0</td>\n",
       "      <td>1.0</td>\n",
       "      <td>18953</td>\n",
       "      <td>0</td>\n",
       "      <td>0</td>\n",
       "      <td>0</td>\n",
       "      <td>0</td>\n",
       "      <td>0</td>\n",
       "      <td>0</td>\n",
       "      <td>0</td>\n",
       "      <td>...</td>\n",
       "      <td>1</td>\n",
       "      <td>0</td>\n",
       "      <td>0</td>\n",
       "      <td>0</td>\n",
       "      <td>0</td>\n",
       "      <td>0</td>\n",
       "      <td>0</td>\n",
       "      <td>0</td>\n",
       "      <td>0</td>\n",
       "      <td>0</td>\n",
       "    </tr>\n",
       "  </tbody>\n",
       "</table>\n",
       "<p>10 rows × 185 columns</p>\n",
       "</div>"
      ],
      "text/plain": [
       "   class  mean_number_of_userids  signup_to_purchase_seconds  \\\n",
       "0      0                     1.0                       13882   \n",
       "1      0                     1.0                       17944   \n",
       "2      1                    12.0                           1   \n",
       "3      0                     1.0                       60085   \n",
       "4      0                     1.0                       41461   \n",
       "5      0                     1.0                        7331   \n",
       "6      0                     1.0                       17825   \n",
       "7      0                     1.0                       35129   \n",
       "8      0                     1.0                       51800   \n",
       "9      0                     1.0                       18953   \n",
       "\n",
       "   country_Afghanistan  country_Albania  country_Algeria  country_Angola  \\\n",
       "0                    0                0                0               0   \n",
       "1                    0                0                0               0   \n",
       "2                    0                0                0               0   \n",
       "3                    0                0                0               0   \n",
       "4                    0                0                0               0   \n",
       "5                    0                0                0               0   \n",
       "6                    0                0                0               0   \n",
       "7                    0                0                0               0   \n",
       "8                    0                0                0               0   \n",
       "9                    0                0                0               0   \n",
       "\n",
       "   country_Antigua and Barbuda  country_Argentina  country_Armenia  ...  \\\n",
       "0                            0                  0                0  ...   \n",
       "1                            0                  0                0  ...   \n",
       "2                            0                  0                0  ...   \n",
       "3                            0                  0                0  ...   \n",
       "4                            0                  0                0  ...   \n",
       "5                            0                  0                0  ...   \n",
       "6                            0                  0                0  ...   \n",
       "7                            0                  0                0  ...   \n",
       "8                            0                  0                0  ...   \n",
       "9                            0                  0                0  ...   \n",
       "\n",
       "   country_United States  country_Uruguay  country_Uzbekistan  \\\n",
       "0                      0                0                   0   \n",
       "1                      1                0                   0   \n",
       "2                      1                0                   0   \n",
       "3                      0                0                   0   \n",
       "4                      1                0                   0   \n",
       "5                      0                0                   0   \n",
       "6                      0                0                   0   \n",
       "7                      1                0                   0   \n",
       "8                      0                0                   0   \n",
       "9                      1                0                   0   \n",
       "\n",
       "   country_Vanuatu  country_Venezuela  country_Viet Nam  \\\n",
       "0                0                  0                 0   \n",
       "1                0                  0                 0   \n",
       "2                0                  0                 0   \n",
       "3                0                  0                 0   \n",
       "4                0                  0                 0   \n",
       "5                0                  0                 0   \n",
       "6                0                  0                 0   \n",
       "7                0                  0                 0   \n",
       "8                0                  0                 0   \n",
       "9                0                  0                 0   \n",
       "\n",
       "   country_Virgin Islands (U.S.)  country_Yemen  country_Zambia  \\\n",
       "0                              0              0               0   \n",
       "1                              0              0               0   \n",
       "2                              0              0               0   \n",
       "3                              0              0               0   \n",
       "4                              0              0               0   \n",
       "5                              0              0               0   \n",
       "6                              0              0               0   \n",
       "7                              0              0               0   \n",
       "8                              0              0               0   \n",
       "9                              0              0               0   \n",
       "\n",
       "   country_Zimbabwe  \n",
       "0                 0  \n",
       "1                 0  \n",
       "2                 0  \n",
       "3                 0  \n",
       "4                 0  \n",
       "5                 0  \n",
       "6                 0  \n",
       "7                 0  \n",
       "8                 0  \n",
       "9                 0  \n",
       "\n",
       "[10 rows x 185 columns]"
      ]
     },
     "execution_count": 26,
     "metadata": {},
     "output_type": "execute_result"
    }
   ],
   "source": [
    "fraud_df.head(10)"
   ]
  },
  {
   "cell_type": "code",
   "execution_count": 27,
   "metadata": {},
   "outputs": [
    {
     "data": {
      "text/html": [
       "<div>\n",
       "<style scoped>\n",
       "    .dataframe tbody tr th:only-of-type {\n",
       "        vertical-align: middle;\n",
       "    }\n",
       "\n",
       "    .dataframe tbody tr th {\n",
       "        vertical-align: top;\n",
       "    }\n",
       "\n",
       "    .dataframe thead th {\n",
       "        text-align: right;\n",
       "    }\n",
       "</style>\n",
       "<table border=\"1\" class=\"dataframe\">\n",
       "  <thead>\n",
       "    <tr style=\"text-align: right;\">\n",
       "      <th></th>\n",
       "      <th>class</th>\n",
       "      <th>mean_number_of_userids</th>\n",
       "      <th>signup_to_purchase_seconds</th>\n",
       "      <th>country_Afghanistan</th>\n",
       "      <th>country_Albania</th>\n",
       "      <th>country_Algeria</th>\n",
       "      <th>country_Angola</th>\n",
       "      <th>country_Antigua and Barbuda</th>\n",
       "      <th>country_Argentina</th>\n",
       "      <th>country_Armenia</th>\n",
       "      <th>...</th>\n",
       "      <th>country_United States</th>\n",
       "      <th>country_Uruguay</th>\n",
       "      <th>country_Uzbekistan</th>\n",
       "      <th>country_Vanuatu</th>\n",
       "      <th>country_Venezuela</th>\n",
       "      <th>country_Viet Nam</th>\n",
       "      <th>country_Virgin Islands (U.S.)</th>\n",
       "      <th>country_Yemen</th>\n",
       "      <th>country_Zambia</th>\n",
       "      <th>country_Zimbabwe</th>\n",
       "    </tr>\n",
       "  </thead>\n",
       "  <tbody>\n",
       "    <tr>\n",
       "      <td>count</td>\n",
       "      <td>151112.000000</td>\n",
       "      <td>151112.000000</td>\n",
       "      <td>151112.000000</td>\n",
       "      <td>151112.000000</td>\n",
       "      <td>151112.000000</td>\n",
       "      <td>151112.000000</td>\n",
       "      <td>151112.000000</td>\n",
       "      <td>151112.000000</td>\n",
       "      <td>151112.000000</td>\n",
       "      <td>151112.000000</td>\n",
       "      <td>...</td>\n",
       "      <td>151112.000000</td>\n",
       "      <td>151112.000000</td>\n",
       "      <td>151112.000000</td>\n",
       "      <td>151112.000000</td>\n",
       "      <td>151112.000000</td>\n",
       "      <td>151112.00000</td>\n",
       "      <td>151112.000000</td>\n",
       "      <td>151112.000000</td>\n",
       "      <td>151112.000000</td>\n",
       "      <td>151112.000000</td>\n",
       "    </tr>\n",
       "    <tr>\n",
       "      <td>mean</td>\n",
       "      <td>0.093646</td>\n",
       "      <td>1.643543</td>\n",
       "      <td>40942.584427</td>\n",
       "      <td>0.000040</td>\n",
       "      <td>0.000086</td>\n",
       "      <td>0.000807</td>\n",
       "      <td>0.000159</td>\n",
       "      <td>0.000020</td>\n",
       "      <td>0.004374</td>\n",
       "      <td>0.000099</td>\n",
       "      <td>...</td>\n",
       "      <td>0.384146</td>\n",
       "      <td>0.000529</td>\n",
       "      <td>0.000066</td>\n",
       "      <td>0.000007</td>\n",
       "      <td>0.001661</td>\n",
       "      <td>0.00364</td>\n",
       "      <td>0.000020</td>\n",
       "      <td>0.000007</td>\n",
       "      <td>0.000066</td>\n",
       "      <td>0.000040</td>\n",
       "    </tr>\n",
       "    <tr>\n",
       "      <td>std</td>\n",
       "      <td>0.291336</td>\n",
       "      <td>2.600779</td>\n",
       "      <td>26049.661902</td>\n",
       "      <td>0.006301</td>\n",
       "      <td>0.009275</td>\n",
       "      <td>0.028402</td>\n",
       "      <td>0.012602</td>\n",
       "      <td>0.004456</td>\n",
       "      <td>0.065993</td>\n",
       "      <td>0.009963</td>\n",
       "      <td>...</td>\n",
       "      <td>0.486394</td>\n",
       "      <td>0.023003</td>\n",
       "      <td>0.008135</td>\n",
       "      <td>0.002572</td>\n",
       "      <td>0.040722</td>\n",
       "      <td>0.06022</td>\n",
       "      <td>0.004456</td>\n",
       "      <td>0.002572</td>\n",
       "      <td>0.008135</td>\n",
       "      <td>0.006301</td>\n",
       "    </tr>\n",
       "    <tr>\n",
       "      <td>min</td>\n",
       "      <td>0.000000</td>\n",
       "      <td>1.000000</td>\n",
       "      <td>1.000000</td>\n",
       "      <td>0.000000</td>\n",
       "      <td>0.000000</td>\n",
       "      <td>0.000000</td>\n",
       "      <td>0.000000</td>\n",
       "      <td>0.000000</td>\n",
       "      <td>0.000000</td>\n",
       "      <td>0.000000</td>\n",
       "      <td>...</td>\n",
       "      <td>0.000000</td>\n",
       "      <td>0.000000</td>\n",
       "      <td>0.000000</td>\n",
       "      <td>0.000000</td>\n",
       "      <td>0.000000</td>\n",
       "      <td>0.00000</td>\n",
       "      <td>0.000000</td>\n",
       "      <td>0.000000</td>\n",
       "      <td>0.000000</td>\n",
       "      <td>0.000000</td>\n",
       "    </tr>\n",
       "    <tr>\n",
       "      <td>25%</td>\n",
       "      <td>0.000000</td>\n",
       "      <td>1.000000</td>\n",
       "      <td>18100.750000</td>\n",
       "      <td>0.000000</td>\n",
       "      <td>0.000000</td>\n",
       "      <td>0.000000</td>\n",
       "      <td>0.000000</td>\n",
       "      <td>0.000000</td>\n",
       "      <td>0.000000</td>\n",
       "      <td>0.000000</td>\n",
       "      <td>...</td>\n",
       "      <td>0.000000</td>\n",
       "      <td>0.000000</td>\n",
       "      <td>0.000000</td>\n",
       "      <td>0.000000</td>\n",
       "      <td>0.000000</td>\n",
       "      <td>0.00000</td>\n",
       "      <td>0.000000</td>\n",
       "      <td>0.000000</td>\n",
       "      <td>0.000000</td>\n",
       "      <td>0.000000</td>\n",
       "    </tr>\n",
       "    <tr>\n",
       "      <td>50%</td>\n",
       "      <td>0.000000</td>\n",
       "      <td>1.000000</td>\n",
       "      <td>40874.000000</td>\n",
       "      <td>0.000000</td>\n",
       "      <td>0.000000</td>\n",
       "      <td>0.000000</td>\n",
       "      <td>0.000000</td>\n",
       "      <td>0.000000</td>\n",
       "      <td>0.000000</td>\n",
       "      <td>0.000000</td>\n",
       "      <td>...</td>\n",
       "      <td>0.000000</td>\n",
       "      <td>0.000000</td>\n",
       "      <td>0.000000</td>\n",
       "      <td>0.000000</td>\n",
       "      <td>0.000000</td>\n",
       "      <td>0.00000</td>\n",
       "      <td>0.000000</td>\n",
       "      <td>0.000000</td>\n",
       "      <td>0.000000</td>\n",
       "      <td>0.000000</td>\n",
       "    </tr>\n",
       "    <tr>\n",
       "      <td>75%</td>\n",
       "      <td>0.000000</td>\n",
       "      <td>1.000000</td>\n",
       "      <td>63504.000000</td>\n",
       "      <td>0.000000</td>\n",
       "      <td>0.000000</td>\n",
       "      <td>0.000000</td>\n",
       "      <td>0.000000</td>\n",
       "      <td>0.000000</td>\n",
       "      <td>0.000000</td>\n",
       "      <td>0.000000</td>\n",
       "      <td>...</td>\n",
       "      <td>1.000000</td>\n",
       "      <td>0.000000</td>\n",
       "      <td>0.000000</td>\n",
       "      <td>0.000000</td>\n",
       "      <td>0.000000</td>\n",
       "      <td>0.00000</td>\n",
       "      <td>0.000000</td>\n",
       "      <td>0.000000</td>\n",
       "      <td>0.000000</td>\n",
       "      <td>0.000000</td>\n",
       "    </tr>\n",
       "    <tr>\n",
       "      <td>max</td>\n",
       "      <td>1.000000</td>\n",
       "      <td>20.000000</td>\n",
       "      <td>86399.000000</td>\n",
       "      <td>1.000000</td>\n",
       "      <td>1.000000</td>\n",
       "      <td>1.000000</td>\n",
       "      <td>1.000000</td>\n",
       "      <td>1.000000</td>\n",
       "      <td>1.000000</td>\n",
       "      <td>1.000000</td>\n",
       "      <td>...</td>\n",
       "      <td>1.000000</td>\n",
       "      <td>1.000000</td>\n",
       "      <td>1.000000</td>\n",
       "      <td>1.000000</td>\n",
       "      <td>1.000000</td>\n",
       "      <td>1.00000</td>\n",
       "      <td>1.000000</td>\n",
       "      <td>1.000000</td>\n",
       "      <td>1.000000</td>\n",
       "      <td>1.000000</td>\n",
       "    </tr>\n",
       "  </tbody>\n",
       "</table>\n",
       "<p>8 rows × 185 columns</p>\n",
       "</div>"
      ],
      "text/plain": [
       "               class  mean_number_of_userids  signup_to_purchase_seconds  \\\n",
       "count  151112.000000           151112.000000               151112.000000   \n",
       "mean        0.093646                1.643543                40942.584427   \n",
       "std         0.291336                2.600779                26049.661902   \n",
       "min         0.000000                1.000000                    1.000000   \n",
       "25%         0.000000                1.000000                18100.750000   \n",
       "50%         0.000000                1.000000                40874.000000   \n",
       "75%         0.000000                1.000000                63504.000000   \n",
       "max         1.000000               20.000000                86399.000000   \n",
       "\n",
       "       country_Afghanistan  country_Albania  country_Algeria  country_Angola  \\\n",
       "count        151112.000000    151112.000000    151112.000000   151112.000000   \n",
       "mean              0.000040         0.000086         0.000807        0.000159   \n",
       "std               0.006301         0.009275         0.028402        0.012602   \n",
       "min               0.000000         0.000000         0.000000        0.000000   \n",
       "25%               0.000000         0.000000         0.000000        0.000000   \n",
       "50%               0.000000         0.000000         0.000000        0.000000   \n",
       "75%               0.000000         0.000000         0.000000        0.000000   \n",
       "max               1.000000         1.000000         1.000000        1.000000   \n",
       "\n",
       "       country_Antigua and Barbuda  country_Argentina  country_Armenia  ...  \\\n",
       "count                151112.000000      151112.000000    151112.000000  ...   \n",
       "mean                      0.000020           0.004374         0.000099  ...   \n",
       "std                       0.004456           0.065993         0.009963  ...   \n",
       "min                       0.000000           0.000000         0.000000  ...   \n",
       "25%                       0.000000           0.000000         0.000000  ...   \n",
       "50%                       0.000000           0.000000         0.000000  ...   \n",
       "75%                       0.000000           0.000000         0.000000  ...   \n",
       "max                       1.000000           1.000000         1.000000  ...   \n",
       "\n",
       "       country_United States  country_Uruguay  country_Uzbekistan  \\\n",
       "count          151112.000000    151112.000000       151112.000000   \n",
       "mean                0.384146         0.000529            0.000066   \n",
       "std                 0.486394         0.023003            0.008135   \n",
       "min                 0.000000         0.000000            0.000000   \n",
       "25%                 0.000000         0.000000            0.000000   \n",
       "50%                 0.000000         0.000000            0.000000   \n",
       "75%                 1.000000         0.000000            0.000000   \n",
       "max                 1.000000         1.000000            1.000000   \n",
       "\n",
       "       country_Vanuatu  country_Venezuela  country_Viet Nam  \\\n",
       "count    151112.000000      151112.000000      151112.00000   \n",
       "mean          0.000007           0.001661           0.00364   \n",
       "std           0.002572           0.040722           0.06022   \n",
       "min           0.000000           0.000000           0.00000   \n",
       "25%           0.000000           0.000000           0.00000   \n",
       "50%           0.000000           0.000000           0.00000   \n",
       "75%           0.000000           0.000000           0.00000   \n",
       "max           1.000000           1.000000           1.00000   \n",
       "\n",
       "       country_Virgin Islands (U.S.)  country_Yemen  country_Zambia  \\\n",
       "count                  151112.000000  151112.000000   151112.000000   \n",
       "mean                        0.000020       0.000007        0.000066   \n",
       "std                         0.004456       0.002572        0.008135   \n",
       "min                         0.000000       0.000000        0.000000   \n",
       "25%                         0.000000       0.000000        0.000000   \n",
       "50%                         0.000000       0.000000        0.000000   \n",
       "75%                         0.000000       0.000000        0.000000   \n",
       "max                         1.000000       1.000000        1.000000   \n",
       "\n",
       "       country_Zimbabwe  \n",
       "count     151112.000000  \n",
       "mean           0.000040  \n",
       "std            0.006301  \n",
       "min            0.000000  \n",
       "25%            0.000000  \n",
       "50%            0.000000  \n",
       "75%            0.000000  \n",
       "max            1.000000  \n",
       "\n",
       "[8 rows x 185 columns]"
      ]
     },
     "execution_count": 27,
     "metadata": {},
     "output_type": "execute_result"
    }
   ],
   "source": [
    "fraud_df.describe()"
   ]
  },
  {
   "cell_type": "markdown",
   "metadata": {},
   "source": [
    "### 2.2 Normalización"
   ]
  },
  {
   "cell_type": "code",
   "execution_count": 40,
   "metadata": {},
   "outputs": [
    {
     "data": {
      "text/plain": [
       "Text(0, 0.5, 'Normalized Count')"
      ]
     },
     "execution_count": 40,
     "metadata": {},
     "output_type": "execute_result"
    },
    {
     "data": {
      "image/png": "[encoded data removed]",
      "text/plain": [
       "<Figure size 432x288 with 1 Axes>"
      ]
     },
     "metadata": {
      "needs_background": "light"
     },
     "output_type": "display_data"
    }
   ],
   "source": [
    "fraud_df.signup_to_purchase_seconds.hist(normed = True, bins=10)\n",
    "plt.xlabel(\"Signup to Purchase time (seconds)\", fontsize=15)\n",
    "plt.ylabel(\"Normalized Count\", fontsize=15)"
   ]
  },
  {
   "cell_type": "markdown",
   "metadata": {},
   "source": [
    "Se puede observar que el tiempo de sign up a compra esta distruibido uniformemente. Para un entrenamiento más preciso, es conveniente __Normalizar__ los datos."
   ]
  },
  {
   "cell_type": "code",
   "execution_count": 57,
   "metadata": {},
   "outputs": [
    {
     "name": "stderr",
     "output_type": "stream",
     "text": [
      "c:\\users\\juanelenter\\appdata\\local\\programs\\python\\python37-32\\lib\\site-packages\\pandas\\plotting\\_matplotlib\\hist.py:316: MatplotlibDeprecationWarning: \n",
      "The 'normed' kwarg was deprecated in Matplotlib 2.1 and will be removed in 3.1. Use 'density' instead.\n",
      "  ax.hist(values, bins=bins, **kwds)\n"
     ]
    },
    {
     "data": {
      "text/plain": [
       "Text(0, 0.5, 'Normalized Count')"
      ]
     },
     "execution_count": 57,
     "metadata": {},
     "output_type": "execute_result"
    },
    {
     "data": {
      "image/png": "[encoded data removed]",
      "text/plain": [
       "<Figure size 432x288 with 1 Axes>"
      ]
     },
     "metadata": {
      "needs_background": "light"
     },
     "output_type": "display_data"
    }
   ],
   "source": [
    "from sklearn.preprocessing import StandardScaler, MinMaxScaler\n",
    "\n",
    "scaler = StandardScaler()\n",
    "fraud_df[\"signup_to_purchase_time\"] = scaler.fit_transform(fraud_df[[\"signup_to_purchase_time\"]])\n",
    "\n",
    "fraud_df[\"signup_to_purchase_time\"].hist(normed=True, bins=25)\n",
    "plt.xlabel(\"Signup to Purchase time (seconds)\", fontsize=15)\n",
    "plt.ylabel(\"Normalized Count\", fontsize=15)"
   ]
  },
  {
   "cell_type": "code",
   "execution_count": 53,
   "metadata": {},
   "outputs": [
    {
     "data": {
      "text/html": [
       "<div>\n",
       "<style scoped>\n",
       "    .dataframe tbody tr th:only-of-type {\n",
       "        vertical-align: middle;\n",
       "    }\n",
       "\n",
       "    .dataframe tbody tr th {\n",
       "        vertical-align: top;\n",
       "    }\n",
       "\n",
       "    .dataframe thead th {\n",
       "        text-align: right;\n",
       "    }\n",
       "</style>\n",
       "<table border=\"1\" class=\"dataframe\">\n",
       "  <thead>\n",
       "    <tr style=\"text-align: right;\">\n",
       "      <th></th>\n",
       "      <th>class</th>\n",
       "      <th>mean_number_of_userids</th>\n",
       "      <th>country_Afghanistan</th>\n",
       "      <th>country_Albania</th>\n",
       "      <th>country_Algeria</th>\n",
       "      <th>country_Angola</th>\n",
       "      <th>country_Antigua and Barbuda</th>\n",
       "      <th>country_Argentina</th>\n",
       "      <th>country_Armenia</th>\n",
       "      <th>country_Australia</th>\n",
       "      <th>...</th>\n",
       "      <th>country_Uruguay</th>\n",
       "      <th>country_Uzbekistan</th>\n",
       "      <th>country_Vanuatu</th>\n",
       "      <th>country_Venezuela</th>\n",
       "      <th>country_Viet Nam</th>\n",
       "      <th>country_Virgin Islands (U.S.)</th>\n",
       "      <th>country_Yemen</th>\n",
       "      <th>country_Zambia</th>\n",
       "      <th>country_Zimbabwe</th>\n",
       "      <th>signup_to_purchase_time</th>\n",
       "    </tr>\n",
       "  </thead>\n",
       "  <tbody>\n",
       "    <tr>\n",
       "      <td>0</td>\n",
       "      <td>0</td>\n",
       "      <td>1.0</td>\n",
       "      <td>0</td>\n",
       "      <td>0</td>\n",
       "      <td>0</td>\n",
       "      <td>0</td>\n",
       "      <td>0</td>\n",
       "      <td>0</td>\n",
       "      <td>0</td>\n",
       "      <td>0</td>\n",
       "      <td>...</td>\n",
       "      <td>0</td>\n",
       "      <td>0</td>\n",
       "      <td>0</td>\n",
       "      <td>0</td>\n",
       "      <td>0</td>\n",
       "      <td>0</td>\n",
       "      <td>0</td>\n",
       "      <td>0</td>\n",
       "      <td>0</td>\n",
       "      <td>-0.395306</td>\n",
       "    </tr>\n",
       "    <tr>\n",
       "      <td>1</td>\n",
       "      <td>0</td>\n",
       "      <td>1.0</td>\n",
       "      <td>0</td>\n",
       "      <td>0</td>\n",
       "      <td>0</td>\n",
       "      <td>0</td>\n",
       "      <td>0</td>\n",
       "      <td>0</td>\n",
       "      <td>0</td>\n",
       "      <td>0</td>\n",
       "      <td>...</td>\n",
       "      <td>0</td>\n",
       "      <td>0</td>\n",
       "      <td>0</td>\n",
       "      <td>0</td>\n",
       "      <td>0</td>\n",
       "      <td>0</td>\n",
       "      <td>0</td>\n",
       "      <td>0</td>\n",
       "      <td>0</td>\n",
       "      <td>-0.290590</td>\n",
       "    </tr>\n",
       "    <tr>\n",
       "      <td>2</td>\n",
       "      <td>1</td>\n",
       "      <td>12.0</td>\n",
       "      <td>0</td>\n",
       "      <td>0</td>\n",
       "      <td>0</td>\n",
       "      <td>0</td>\n",
       "      <td>0</td>\n",
       "      <td>0</td>\n",
       "      <td>0</td>\n",
       "      <td>0</td>\n",
       "      <td>...</td>\n",
       "      <td>0</td>\n",
       "      <td>0</td>\n",
       "      <td>0</td>\n",
       "      <td>0</td>\n",
       "      <td>0</td>\n",
       "      <td>0</td>\n",
       "      <td>0</td>\n",
       "      <td>0</td>\n",
       "      <td>0</td>\n",
       "      <td>-3.554604</td>\n",
       "    </tr>\n",
       "    <tr>\n",
       "      <td>3</td>\n",
       "      <td>0</td>\n",
       "      <td>1.0</td>\n",
       "      <td>0</td>\n",
       "      <td>0</td>\n",
       "      <td>0</td>\n",
       "      <td>0</td>\n",
       "      <td>0</td>\n",
       "      <td>0</td>\n",
       "      <td>0</td>\n",
       "      <td>0</td>\n",
       "      <td>...</td>\n",
       "      <td>0</td>\n",
       "      <td>0</td>\n",
       "      <td>0</td>\n",
       "      <td>0</td>\n",
       "      <td>0</td>\n",
       "      <td>0</td>\n",
       "      <td>0</td>\n",
       "      <td>0</td>\n",
       "      <td>0</td>\n",
       "      <td>0.492755</td>\n",
       "    </tr>\n",
       "    <tr>\n",
       "      <td>4</td>\n",
       "      <td>0</td>\n",
       "      <td>1.0</td>\n",
       "      <td>0</td>\n",
       "      <td>0</td>\n",
       "      <td>0</td>\n",
       "      <td>0</td>\n",
       "      <td>0</td>\n",
       "      <td>0</td>\n",
       "      <td>0</td>\n",
       "      <td>0</td>\n",
       "      <td>...</td>\n",
       "      <td>0</td>\n",
       "      <td>0</td>\n",
       "      <td>0</td>\n",
       "      <td>0</td>\n",
       "      <td>0</td>\n",
       "      <td>0</td>\n",
       "      <td>0</td>\n",
       "      <td>0</td>\n",
       "      <td>0</td>\n",
       "      <td>0.160830</td>\n",
       "    </tr>\n",
       "  </tbody>\n",
       "</table>\n",
       "<p>5 rows × 185 columns</p>\n",
       "</div>"
      ],
      "text/plain": [
       "   class  mean_number_of_userids  country_Afghanistan  country_Albania  \\\n",
       "0      0                     1.0                    0                0   \n",
       "1      0                     1.0                    0                0   \n",
       "2      1                    12.0                    0                0   \n",
       "3      0                     1.0                    0                0   \n",
       "4      0                     1.0                    0                0   \n",
       "\n",
       "   country_Algeria  country_Angola  country_Antigua and Barbuda  \\\n",
       "0                0               0                            0   \n",
       "1                0               0                            0   \n",
       "2                0               0                            0   \n",
       "3                0               0                            0   \n",
       "4                0               0                            0   \n",
       "\n",
       "   country_Argentina  country_Armenia  country_Australia  ...  \\\n",
       "0                  0                0                  0  ...   \n",
       "1                  0                0                  0  ...   \n",
       "2                  0                0                  0  ...   \n",
       "3                  0                0                  0  ...   \n",
       "4                  0                0                  0  ...   \n",
       "\n",
       "   country_Uruguay  country_Uzbekistan  country_Vanuatu  country_Venezuela  \\\n",
       "0                0                   0                0                  0   \n",
       "1                0                   0                0                  0   \n",
       "2                0                   0                0                  0   \n",
       "3                0                   0                0                  0   \n",
       "4                0                   0                0                  0   \n",
       "\n",
       "   country_Viet Nam  country_Virgin Islands (U.S.)  country_Yemen  \\\n",
       "0                 0                              0              0   \n",
       "1                 0                              0              0   \n",
       "2                 0                              0              0   \n",
       "3                 0                              0              0   \n",
       "4                 0                              0              0   \n",
       "\n",
       "   country_Zambia  country_Zimbabwe  signup_to_purchase_time  \n",
       "0               0                 0                -0.395306  \n",
       "1               0                 0                -0.290590  \n",
       "2               0                 0                -3.554604  \n",
       "3               0                 0                 0.492755  \n",
       "4               0                 0                 0.160830  \n",
       "\n",
       "[5 rows x 185 columns]"
      ]
     },
     "execution_count": 53,
     "metadata": {},
     "output_type": "execute_result"
    }
   ],
   "source": [
    "fraud_df.head()"
   ]
  },
  {
   "cell_type": "code",
   "execution_count": 61,
   "metadata": {},
   "outputs": [],
   "source": [
    "\n",
    "non_onehotencoded_cols = [feature for feature in fraud_df.columns if \"country\" not in feature and feature != \"class\"]\n",
    "\n",
    "# Reescalado de 0 a 1\n",
    "scalermm = MinMaxScaler()\n",
    "fraud_df[\"signup_to_purchase_time\"] = scalermm.fit_transform(fraud_df[[\"signup_to_purchase_time\"]])\n",
    "fraud_df[\"mean_number_of_userids\"] = scalermm.fit_transform(fraud_df[[\"mean_number_of_userids\"]])\n",
    "\n",
    "X = fraud_df[ [col for col in fraud_df.columns if col != \"class\"] ]\n",
    "Y = fraud_df[\"class\"]"
   ]
  },
  {
   "cell_type": "code",
   "execution_count": null,
   "metadata": {},
   "outputs": [],
   "source": []
  },
  {
   "cell_type": "code",
   "execution_count": 62,
   "metadata": {},
   "outputs": [
    {
     "data": {
      "text/html": [
       "<div>\n",
       "<style scoped>\n",
       "    .dataframe tbody tr th:only-of-type {\n",
       "        vertical-align: middle;\n",
       "    }\n",
       "\n",
       "    .dataframe tbody tr th {\n",
       "        vertical-align: top;\n",
       "    }\n",
       "\n",
       "    .dataframe thead th {\n",
       "        text-align: right;\n",
       "    }\n",
       "</style>\n",
       "<table border=\"1\" class=\"dataframe\">\n",
       "  <thead>\n",
       "    <tr style=\"text-align: right;\">\n",
       "      <th></th>\n",
       "      <th>feature</th>\n",
       "      <th>importance</th>\n",
       "    </tr>\n",
       "  </thead>\n",
       "  <tbody>\n",
       "    <tr>\n",
       "      <td>183</td>\n",
       "      <td>signup_to_purchase_time</td>\n",
       "      <td>0.712282</td>\n",
       "    </tr>\n",
       "    <tr>\n",
       "      <td>0</td>\n",
       "      <td>mean_number_of_userids</td>\n",
       "      <td>0.282473</td>\n",
       "    </tr>\n",
       "  </tbody>\n",
       "</table>\n",
       "</div>"
      ],
      "text/plain": [
       "                     feature  importance\n",
       "183  signup_to_purchase_time    0.712282\n",
       "0     mean_number_of_userids    0.282473"
      ]
     },
     "execution_count": 62,
     "metadata": {},
     "output_type": "execute_result"
    }
   ],
   "source": [
    "# Creamos y entrenamos el clasificador\n",
    "clf = ExtraTreesClassifier(n_estimators=200)\n",
    "_ = clf.fit(X, Y)\n",
    "\n",
    "# Veamos el resultado del clasificador, que features fueron determinantes.\n",
    "features = pd.DataFrame()\n",
    "features['feature'] = X.columns\n",
    "features['importance'] = clf.feature_importances_\n",
    "\n",
    "features[ features.importance > np.mean(features.importance) ].sort_values(by='importance', ascending=False)"
   ]
  },
  {
   "cell_type": "code",
   "execution_count": null,
   "metadata": {},
   "outputs": [],
   "source": []
  },
  {
   "cell_type": "code",
   "execution_count": null,
   "metadata": {},
   "outputs": [],
   "source": []
  }
 ],
 "metadata": {
  "kernelspec": {
   "display_name": "Python 3",
   "language": "python",
   "name": "python3"
  },
  "language_info": {
   "codemirror_mode": {
    "name": "ipython",
    "version": 3
   },
   "file_extension": ".py",
   "mimetype": "text/x-python",
   "name": "python",
   "nbconvert_exporter": "python",
   "pygments_lexer": "ipython3",
   "version": "3.7.4"
  }
 },
 "nbformat": 4,
 "nbformat_minor": 2
}
